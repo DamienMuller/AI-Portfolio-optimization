{
 "cells": [
  {
   "cell_type": "markdown",
   "metadata": {
    "tags": []
   },
   "source": [
    "## Load the dataset"
   ]
  },
  {
   "cell_type": "code",
   "execution_count": 1,
   "metadata": {},
   "outputs": [],
   "source": [
    "import numpy as np\n",
    "import pandas as pd\n",
    "import yfinance as yf\n",
    "import matplotlib.pyplot as plt\n",
    "from pypfopt.efficient_frontier import EfficientFrontier\n",
    "from sklearn.tree import DecisionTreeRegressor\n",
    "from sklearn.ensemble import RandomForestRegressor\n",
    "from sklearn.ensemble import GradientBoostingRegressor\n",
    "from sklearn.multioutput import MultiOutputRegressor\n",
    "from sklearn.metrics import mean_absolute_error\n",
    "from sklearn.metrics import mean_squared_error as MSE\n",
    "from sklearn.metrics import r2_score\n",
    "from sklearn.model_selection import ParameterGrid\n",
    "from sklearn.model_selection import GridSearchCV\n",
    "import warnings\n",
    "warnings.filterwarnings('ignore')"
   ]
  },
  {
   "cell_type": "markdown",
   "metadata": {},
   "source": [
    "**Note: Download of ETF prices and preprocessing steps can be omitted if csv file available in repository is imported locally**"
   ]
  },
  {
   "cell_type": "code",
   "execution_count": null,
   "metadata": {},
   "outputs": [],
   "source": [
    "# Download ETF daily prices from Yahoo Finance \n",
    "tickers = ['VTI','IUSV','VBR','VEA','VWO','SHV','STIP','AGG','IBND','EMB']\n",
    "my_data=pd.DataFrame()\n",
    "for t in tickers: \n",
    "    my_data[t]=yf.download(t, end='2021-07-24')['Adj Close']"
   ]
  },
  {
   "cell_type": "markdown",
   "metadata": {
    "jp-MarkdownHeadingCollapsed": true,
    "tags": []
   },
   "source": [
    "## Data pre-processing"
   ]
  },
  {
   "cell_type": "code",
   "execution_count": 3,
   "metadata": {},
   "outputs": [
    {
     "data": {
      "text/html": [
       "<div>\n",
       "<style scoped>\n",
       "    .dataframe tbody tr th:only-of-type {\n",
       "        vertical-align: middle;\n",
       "    }\n",
       "\n",
       "    .dataframe tbody tr th {\n",
       "        vertical-align: top;\n",
       "    }\n",
       "\n",
       "    .dataframe thead th {\n",
       "        text-align: right;\n",
       "    }\n",
       "</style>\n",
       "<table border=\"1\" class=\"dataframe\">\n",
       "  <thead>\n",
       "    <tr style=\"text-align: right;\">\n",
       "      <th></th>\n",
       "      <th>VTI</th>\n",
       "      <th>IUSV</th>\n",
       "      <th>VBR</th>\n",
       "      <th>VEA</th>\n",
       "      <th>VWO</th>\n",
       "      <th>SHV</th>\n",
       "      <th>STIP</th>\n",
       "      <th>AGG</th>\n",
       "      <th>IBND</th>\n",
       "      <th>EMB</th>\n",
       "    </tr>\n",
       "    <tr>\n",
       "      <th>Date</th>\n",
       "      <th></th>\n",
       "      <th></th>\n",
       "      <th></th>\n",
       "      <th></th>\n",
       "      <th></th>\n",
       "      <th></th>\n",
       "      <th></th>\n",
       "      <th></th>\n",
       "      <th></th>\n",
       "      <th></th>\n",
       "    </tr>\n",
       "  </thead>\n",
       "  <tbody>\n",
       "    <tr>\n",
       "      <th>2001-06-15</th>\n",
       "      <td>37.115849</td>\n",
       "      <td>14.996559</td>\n",
       "      <td>NaN</td>\n",
       "      <td>NaN</td>\n",
       "      <td>NaN</td>\n",
       "      <td>NaN</td>\n",
       "      <td>NaN</td>\n",
       "      <td>NaN</td>\n",
       "      <td>NaN</td>\n",
       "      <td>NaN</td>\n",
       "    </tr>\n",
       "    <tr>\n",
       "      <th>2001-06-18</th>\n",
       "      <td>36.879147</td>\n",
       "      <td>14.954364</td>\n",
       "      <td>NaN</td>\n",
       "      <td>NaN</td>\n",
       "      <td>NaN</td>\n",
       "      <td>NaN</td>\n",
       "      <td>NaN</td>\n",
       "      <td>NaN</td>\n",
       "      <td>NaN</td>\n",
       "      <td>NaN</td>\n",
       "    </tr>\n",
       "    <tr>\n",
       "      <th>2001-06-19</th>\n",
       "      <td>36.982494</td>\n",
       "      <td>15.004597</td>\n",
       "      <td>NaN</td>\n",
       "      <td>NaN</td>\n",
       "      <td>NaN</td>\n",
       "      <td>NaN</td>\n",
       "      <td>NaN</td>\n",
       "      <td>NaN</td>\n",
       "      <td>NaN</td>\n",
       "      <td>NaN</td>\n",
       "    </tr>\n",
       "    <tr>\n",
       "      <th>2001-06-20</th>\n",
       "      <td>37.372540</td>\n",
       "      <td>15.103045</td>\n",
       "      <td>NaN</td>\n",
       "      <td>NaN</td>\n",
       "      <td>NaN</td>\n",
       "      <td>NaN</td>\n",
       "      <td>NaN</td>\n",
       "      <td>NaN</td>\n",
       "      <td>NaN</td>\n",
       "      <td>NaN</td>\n",
       "    </tr>\n",
       "    <tr>\n",
       "      <th>2001-06-21</th>\n",
       "      <td>37.672611</td>\n",
       "      <td>15.062857</td>\n",
       "      <td>NaN</td>\n",
       "      <td>NaN</td>\n",
       "      <td>NaN</td>\n",
       "      <td>NaN</td>\n",
       "      <td>NaN</td>\n",
       "      <td>NaN</td>\n",
       "      <td>NaN</td>\n",
       "      <td>NaN</td>\n",
       "    </tr>\n",
       "  </tbody>\n",
       "</table>\n",
       "</div>"
      ],
      "text/plain": [
       "                  VTI       IUSV  VBR  VEA  VWO  SHV  STIP  AGG  IBND  EMB\n",
       "Date                                                                      \n",
       "2001-06-15  37.115849  14.996559  NaN  NaN  NaN  NaN   NaN  NaN   NaN  NaN\n",
       "2001-06-18  36.879147  14.954364  NaN  NaN  NaN  NaN   NaN  NaN   NaN  NaN\n",
       "2001-06-19  36.982494  15.004597  NaN  NaN  NaN  NaN   NaN  NaN   NaN  NaN\n",
       "2001-06-20  37.372540  15.103045  NaN  NaN  NaN  NaN   NaN  NaN   NaN  NaN\n",
       "2001-06-21  37.672611  15.062857  NaN  NaN  NaN  NaN   NaN  NaN   NaN  NaN"
      ]
     },
     "execution_count": 3,
     "metadata": {},
     "output_type": "execute_result"
    }
   ],
   "source": [
    "# Inspect first rows\n",
    "my_data.head()"
   ]
  },
  {
   "cell_type": "markdown",
   "metadata": {},
   "source": [
    "The raw dataset starts in 2001. However, not all ETFs were launched at that time so that there are missing values. "
   ]
  },
  {
   "cell_type": "code",
   "execution_count": 4,
   "metadata": {},
   "outputs": [
    {
     "data": {
      "text/plain": [
       "VTI        0\n",
       "IUSV       0\n",
       "VBR      657\n",
       "VEA     1534\n",
       "VWO      936\n",
       "SHV     1399\n",
       "STIP    2381\n",
       "AGG      572\n",
       "IBND    2244\n",
       "EMB     1636\n",
       "dtype: int64"
      ]
     },
     "execution_count": 4,
     "metadata": {},
     "output_type": "execute_result"
    }
   ],
   "source": [
    "# Inspect missing values\n",
    "my_data.isna().sum()"
   ]
  },
  {
   "cell_type": "code",
   "execution_count": 5,
   "metadata": {},
   "outputs": [
    {
     "name": "stdout",
     "output_type": "stream",
     "text": [
      "<class 'pandas.core.frame.DataFrame'>\n",
      "DatetimeIndex: 2677 entries, 2010-12-03 to 2021-07-23\n",
      "Data columns (total 10 columns):\n",
      " #   Column  Non-Null Count  Dtype  \n",
      "---  ------  --------------  -----  \n",
      " 0   VTI     2677 non-null   float64\n",
      " 1   IUSV    2677 non-null   float64\n",
      " 2   VBR     2677 non-null   float64\n",
      " 3   VEA     2677 non-null   float64\n",
      " 4   VWO     2677 non-null   float64\n",
      " 5   SHV     2677 non-null   float64\n",
      " 6   STIP    2677 non-null   float64\n",
      " 7   AGG     2677 non-null   float64\n",
      " 8   IBND    2677 non-null   float64\n",
      " 9   EMB     2677 non-null   float64\n",
      "dtypes: float64(10)\n",
      "memory usage: 230.1 KB\n"
     ]
    }
   ],
   "source": [
    "# Dropping missing values\n",
    "my_data = my_data.dropna()\n",
    "my_data.info()"
   ]
  },
  {
   "cell_type": "markdown",
   "metadata": {},
   "source": [
    "<br> "
   ]
  },
  {
   "cell_type": "markdown",
   "metadata": {},
   "source": [
    "After dropping missing values, price data ranges from December 2010 to July 2021, which is considered sufficient for this project.   \n",
    "Each column consists of one variable (one ETF), each row of one observation (daily prices) and each cell contains one value. Thus, data is in desirable format for further analysis. "
   ]
  },
  {
   "cell_type": "markdown",
   "metadata": {
    "tags": []
   },
   "source": [
    "## Mean_variance optimization"
   ]
  },
  {
   "cell_type": "markdown",
   "metadata": {},
   "source": [
    "**Baseline model: Markowitz optimization portfolio (Modern Portfolio Theory)** \n",
    "\n",
    "\n",
    "- The model solves a convex optimization problem: It takes as input the expected ETF returns approximated by past average annual returns as well as the annualized covariance matrix. It outputs the weights to be invested in each ETF to maximize the return per unit of risk (= Sharpe ratio).\n",
    "\n",
    "\n",
    "- *Initial optimal weights:* Returns between January 2011 and December 2014 are initially used to get optimal weights that maximize Sharpe ratio. \n",
    "\n",
    "- *Monthly rebalancing:* Window of returns used to get optimal weights is gradually expanded by one month, e.g. January 2011 - January 2015 returns used to get optimal weights for February 2015 and so on.  \n",
    "*Note: This allows to approximate walk-forward validation used to train AI algorithms. Also, MVO outputs are then equal to outputs of AI optimization, namely monthly optimal weights.*\n",
    "\n",
    "- Thus, it is assumed that the investor starts investing January 1st, 2015, monthly rebalances portfolio weights and the final rebalancing happens in the beginning of July 2021. "
   ]
  },
  {
   "cell_type": "raw",
   "metadata": {},
   "source": [
    "# Load cleaned dataset locally if import and preprocessing steps were skipped\n",
    "my_data = pd.read_csv('Cleaned_ETF_prices.csv', index_col=0, parse_dates=True)"
   ]
  },
  {
   "cell_type": "code",
   "execution_count": 74,
   "metadata": {},
   "outputs": [],
   "source": [
    "# Get monthly weights that maximize Sharpe ratio between January 2015 and June 2021\n",
    "start_year = '2011'\n",
    "monthly_index = pd.period_range('2014-12','2021-05', freq='M')\n",
    "optimal_monthly_weights = []\n",
    "new_index = []\n",
    "\n",
    "for month in monthly_index:\n",
    "    end_month = str(month)\n",
    "    ef = EfficientFrontier(my_data[start_year:end_month].pct_change().mean()*252,\\\n",
    "                               my_data[start_year:end_month].pct_change().cov()*252)\n",
    "\n",
    "    ef.add_constraint(lambda x : x >= 0) # weights all >= 0 (no short-selling)\n",
    "    raw_weights_sharpe = ef.max_sharpe()\n",
    "    cleaned_weights_sharpe = ef.clean_weights() # reformat weights \n",
    "    optimal_monthly_weights.append(cleaned_weights_sharpe)\n",
    "    new_index.append(month+1)"
   ]
  },
  {
   "cell_type": "code",
   "execution_count": 75,
   "metadata": {},
   "outputs": [
    {
     "data": {
      "text/html": [
       "<div>\n",
       "<style scoped>\n",
       "    .dataframe tbody tr th:only-of-type {\n",
       "        vertical-align: middle;\n",
       "    }\n",
       "\n",
       "    .dataframe tbody tr th {\n",
       "        vertical-align: top;\n",
       "    }\n",
       "\n",
       "    .dataframe thead th {\n",
       "        text-align: right;\n",
       "    }\n",
       "</style>\n",
       "<table border=\"1\" class=\"dataframe\">\n",
       "  <thead>\n",
       "    <tr style=\"text-align: right;\">\n",
       "      <th></th>\n",
       "      <th>VTI</th>\n",
       "      <th>IUSV</th>\n",
       "      <th>VBR</th>\n",
       "      <th>VEA</th>\n",
       "      <th>VWO</th>\n",
       "      <th>SHV</th>\n",
       "      <th>STIP</th>\n",
       "      <th>AGG</th>\n",
       "      <th>IBND</th>\n",
       "      <th>EMB</th>\n",
       "    </tr>\n",
       "  </thead>\n",
       "  <tbody>\n",
       "    <tr>\n",
       "      <th>2015-01</th>\n",
       "      <td>0.17170</td>\n",
       "      <td>0.02716</td>\n",
       "      <td>0.0</td>\n",
       "      <td>0.0</td>\n",
       "      <td>0.0</td>\n",
       "      <td>0.0</td>\n",
       "      <td>0.0</td>\n",
       "      <td>0.80114</td>\n",
       "      <td>0.0</td>\n",
       "      <td>0.0</td>\n",
       "    </tr>\n",
       "    <tr>\n",
       "      <th>2015-02</th>\n",
       "      <td>0.17701</td>\n",
       "      <td>0.00000</td>\n",
       "      <td>0.0</td>\n",
       "      <td>0.0</td>\n",
       "      <td>0.0</td>\n",
       "      <td>0.0</td>\n",
       "      <td>0.0</td>\n",
       "      <td>0.82299</td>\n",
       "      <td>0.0</td>\n",
       "      <td>0.0</td>\n",
       "    </tr>\n",
       "    <tr>\n",
       "      <th>2015-03</th>\n",
       "      <td>0.19694</td>\n",
       "      <td>0.00000</td>\n",
       "      <td>0.0</td>\n",
       "      <td>0.0</td>\n",
       "      <td>0.0</td>\n",
       "      <td>0.0</td>\n",
       "      <td>0.0</td>\n",
       "      <td>0.80306</td>\n",
       "      <td>0.0</td>\n",
       "      <td>0.0</td>\n",
       "    </tr>\n",
       "    <tr>\n",
       "      <th>2015-04</th>\n",
       "      <td>0.19763</td>\n",
       "      <td>0.00000</td>\n",
       "      <td>0.0</td>\n",
       "      <td>0.0</td>\n",
       "      <td>0.0</td>\n",
       "      <td>0.0</td>\n",
       "      <td>0.0</td>\n",
       "      <td>0.80237</td>\n",
       "      <td>0.0</td>\n",
       "      <td>0.0</td>\n",
       "    </tr>\n",
       "    <tr>\n",
       "      <th>2015-05</th>\n",
       "      <td>0.20451</td>\n",
       "      <td>0.00000</td>\n",
       "      <td>0.0</td>\n",
       "      <td>0.0</td>\n",
       "      <td>0.0</td>\n",
       "      <td>0.0</td>\n",
       "      <td>0.0</td>\n",
       "      <td>0.79549</td>\n",
       "      <td>0.0</td>\n",
       "      <td>0.0</td>\n",
       "    </tr>\n",
       "    <tr>\n",
       "      <th>...</th>\n",
       "      <td>...</td>\n",
       "      <td>...</td>\n",
       "      <td>...</td>\n",
       "      <td>...</td>\n",
       "      <td>...</td>\n",
       "      <td>...</td>\n",
       "      <td>...</td>\n",
       "      <td>...</td>\n",
       "      <td>...</td>\n",
       "      <td>...</td>\n",
       "    </tr>\n",
       "    <tr>\n",
       "      <th>2021-02</th>\n",
       "      <td>0.25625</td>\n",
       "      <td>0.00000</td>\n",
       "      <td>0.0</td>\n",
       "      <td>0.0</td>\n",
       "      <td>0.0</td>\n",
       "      <td>0.0</td>\n",
       "      <td>0.0</td>\n",
       "      <td>0.74375</td>\n",
       "      <td>0.0</td>\n",
       "      <td>0.0</td>\n",
       "    </tr>\n",
       "    <tr>\n",
       "      <th>2021-03</th>\n",
       "      <td>0.27881</td>\n",
       "      <td>0.00000</td>\n",
       "      <td>0.0</td>\n",
       "      <td>0.0</td>\n",
       "      <td>0.0</td>\n",
       "      <td>0.0</td>\n",
       "      <td>0.0</td>\n",
       "      <td>0.72119</td>\n",
       "      <td>0.0</td>\n",
       "      <td>0.0</td>\n",
       "    </tr>\n",
       "    <tr>\n",
       "      <th>2021-04</th>\n",
       "      <td>0.29907</td>\n",
       "      <td>0.00000</td>\n",
       "      <td>0.0</td>\n",
       "      <td>0.0</td>\n",
       "      <td>0.0</td>\n",
       "      <td>0.0</td>\n",
       "      <td>0.0</td>\n",
       "      <td>0.70093</td>\n",
       "      <td>0.0</td>\n",
       "      <td>0.0</td>\n",
       "    </tr>\n",
       "    <tr>\n",
       "      <th>2021-05</th>\n",
       "      <td>0.29911</td>\n",
       "      <td>0.00000</td>\n",
       "      <td>0.0</td>\n",
       "      <td>0.0</td>\n",
       "      <td>0.0</td>\n",
       "      <td>0.0</td>\n",
       "      <td>0.0</td>\n",
       "      <td>0.70089</td>\n",
       "      <td>0.0</td>\n",
       "      <td>0.0</td>\n",
       "    </tr>\n",
       "    <tr>\n",
       "      <th>2021-06</th>\n",
       "      <td>0.29968</td>\n",
       "      <td>0.00000</td>\n",
       "      <td>0.0</td>\n",
       "      <td>0.0</td>\n",
       "      <td>0.0</td>\n",
       "      <td>0.0</td>\n",
       "      <td>0.0</td>\n",
       "      <td>0.70032</td>\n",
       "      <td>0.0</td>\n",
       "      <td>0.0</td>\n",
       "    </tr>\n",
       "  </tbody>\n",
       "</table>\n",
       "<p>78 rows × 10 columns</p>\n",
       "</div>"
      ],
      "text/plain": [
       "             VTI     IUSV  VBR  VEA  VWO  SHV  STIP      AGG  IBND  EMB\n",
       "2015-01  0.17170  0.02716  0.0  0.0  0.0  0.0   0.0  0.80114   0.0  0.0\n",
       "2015-02  0.17701  0.00000  0.0  0.0  0.0  0.0   0.0  0.82299   0.0  0.0\n",
       "2015-03  0.19694  0.00000  0.0  0.0  0.0  0.0   0.0  0.80306   0.0  0.0\n",
       "2015-04  0.19763  0.00000  0.0  0.0  0.0  0.0   0.0  0.80237   0.0  0.0\n",
       "2015-05  0.20451  0.00000  0.0  0.0  0.0  0.0   0.0  0.79549   0.0  0.0\n",
       "...          ...      ...  ...  ...  ...  ...   ...      ...   ...  ...\n",
       "2021-02  0.25625  0.00000  0.0  0.0  0.0  0.0   0.0  0.74375   0.0  0.0\n",
       "2021-03  0.27881  0.00000  0.0  0.0  0.0  0.0   0.0  0.72119   0.0  0.0\n",
       "2021-04  0.29907  0.00000  0.0  0.0  0.0  0.0   0.0  0.70093   0.0  0.0\n",
       "2021-05  0.29911  0.00000  0.0  0.0  0.0  0.0   0.0  0.70089   0.0  0.0\n",
       "2021-06  0.29968  0.00000  0.0  0.0  0.0  0.0   0.0  0.70032   0.0  0.0\n",
       "\n",
       "[78 rows x 10 columns]"
      ]
     },
     "execution_count": 75,
     "metadata": {},
     "output_type": "execute_result"
    }
   ],
   "source": [
    "# Store optimal weights in dataframe\n",
    "MVO_monthly_weights = pd.DataFrame(optimal_monthly_weights, index=new_index)\n",
    "MVO_monthly_weights"
   ]
  },
  {
   "cell_type": "code",
   "execution_count": 11,
   "metadata": {
    "tags": []
   },
   "outputs": [
    {
     "data": {
      "text/plain": [
       "pandas.core.frame.DataFrame"
      ]
     },
     "execution_count": 11,
     "metadata": {},
     "output_type": "execute_result"
    }
   ],
   "source": [
    "type(my_data)"
   ]
  },
  {
   "cell_type": "code",
   "execution_count": 24,
   "metadata": {},
   "outputs": [],
   "source": [
    "def get_daily_portfolio_returns(daily_asset_returns, monthly_predicted_weights,\n",
    "                                period = pd.period_range('2015-01','2021-06', freq='M')):\n",
    "    '''Takes daily asset returns and asset weights to calculate daily portfolio returns.\n",
    "        Asset weights are rebalanced monthly and must be specified for each month. \n",
    "        \n",
    "        Parameters\n",
    "        ----------\n",
    "        daily_asset_returns : pandas.DataFrame\n",
    "            Daily asset returns. \n",
    "        monthly_predicted_weights : pandas.DataFrame\n",
    "            Asset weights for each month.\n",
    "        period : pandas.PeriodIndex\n",
    "            Months for which portfolio returns are calculated (YYYY-MM). \n",
    "        \n",
    "        Returns\n",
    "        ----------\n",
    "        daily_returns : pandas.DataFrame\n",
    "            Daily portfolio returns given asset weights over specified period. \n",
    "    '''\n",
    "    daily_returns = pd.Series()\n",
    "    for month in period:\n",
    "        month = str(month)\n",
    "        daily_returns = daily_returns.append(daily_asset_returns.loc[month] @ monthly_predicted_weights.loc[month])\n",
    "    return daily_returns"
   ]
  },
  {
   "cell_type": "code",
   "execution_count": 25,
   "metadata": {},
   "outputs": [],
   "source": [
    "def performance_metrics(daily_returns):\n",
    "    '''Calculates total return, annualized return, annualized volatility and sharpe ratio given daily asset returns.\n",
    "    \n",
    "    Parameters\n",
    "    ----------\n",
    "    daily_returns : pandas.DataFrame\n",
    "        Daily asset returns. \n",
    "    \n",
    "    Returns\n",
    "    ----------\n",
    "    total_return, annualized_return, annualized_vol, sharpe_ratio : float \n",
    "    \n",
    "    '''\n",
    "    cumul_return = (1+daily_returns).cumprod()\n",
    "    total_return = np.round((cumul_return[-1]-1) * 100,2)\n",
    "    delta = daily_returns.index[-1] - daily_returns.index[0] #get holding period\n",
    "    annualized_return = np.round(((1+total_return/100)**(365/delta.days)-1)*100,2)\n",
    "    annualized_vol = np.round(daily_returns.std()*np.sqrt(252)*100,2)\n",
    "    sharpe_ratio = np.round((annualized_return-2)/annualized_vol,2) #risk-free rate: 2%\n",
    "    return total_return, annualized_return, annualized_vol, sharpe_ratio\n"
   ]
  },
  {
   "cell_type": "code",
   "execution_count": 76,
   "metadata": {},
   "outputs": [],
   "source": [
    "# Compute daily portfolio returns with monthly rebalancing \n",
    "daily_returns = my_data['2015-01':].pct_change().dropna()\n",
    "daily_returns_MVO = get_daily_portfolio_returns(daily_returns,MVO_monthly_weights)"
   ]
  },
  {
   "cell_type": "code",
   "execution_count": 77,
   "metadata": {},
   "outputs": [
    {
     "data": {
      "text/html": [
       "<div>\n",
       "<style scoped>\n",
       "    .dataframe tbody tr th:only-of-type {\n",
       "        vertical-align: middle;\n",
       "    }\n",
       "\n",
       "    .dataframe tbody tr th {\n",
       "        vertical-align: top;\n",
       "    }\n",
       "\n",
       "    .dataframe thead th {\n",
       "        text-align: right;\n",
       "    }\n",
       "</style>\n",
       "<table border=\"1\" class=\"dataframe\">\n",
       "  <thead>\n",
       "    <tr style=\"text-align: right;\">\n",
       "      <th></th>\n",
       "      <th>MVO</th>\n",
       "    </tr>\n",
       "  </thead>\n",
       "  <tbody>\n",
       "    <tr>\n",
       "      <th>Total return</th>\n",
       "      <td>44.57</td>\n",
       "    </tr>\n",
       "    <tr>\n",
       "      <th>Annualized return</th>\n",
       "      <td>5.85</td>\n",
       "    </tr>\n",
       "    <tr>\n",
       "      <th>Annualized volatility</th>\n",
       "      <td>5.49</td>\n",
       "    </tr>\n",
       "    <tr>\n",
       "      <th>Sharpe ratio</th>\n",
       "      <td>0.70</td>\n",
       "    </tr>\n",
       "  </tbody>\n",
       "</table>\n",
       "</div>"
      ],
      "text/plain": [
       "                         MVO\n",
       "Total return           44.57\n",
       "Annualized return       5.85\n",
       "Annualized volatility   5.49\n",
       "Sharpe ratio            0.70"
      ]
     },
     "execution_count": 77,
     "metadata": {},
     "output_type": "execute_result"
    }
   ],
   "source": [
    "# Save metrics in dataframe \n",
    "performance = performance_metrics(daily_returns_MVO)\n",
    "results = pd.DataFrame(performance, index=['Total return','Annualized return',\\\n",
    "                                           'Annualized volatility','Sharpe ratio'], columns=['MVO'])\n",
    "results"
   ]
  },
  {
   "cell_type": "markdown",
   "metadata": {
    "tags": []
   },
   "source": [
    "## Machine learning optimization"
   ]
  },
  {
   "cell_type": "markdown",
   "metadata": {},
   "source": [
    "- MPT has a number of drawbacks, f.ex. input sensitivity meaning that a small change in inputs leads to a change in portfolio allocation; sample estimates of risk using variance (only considers downside risk) and of return using sample mean leads to noisy estimates (high range of numbers) and overly concentrated portfolios. \n",
    "\n",
    "\n",
    "- Proposition: Use a range of features (e.g. technical analysis tools + more robust estimators of return such as CAPM returns and alternative measures of risk (e.g. VaR, CVaR) to predict monthly optimal portfolio weights that maximize Sharpe ratio.\n",
    "\n",
    "\n",
    "- For each month, the optimal Sharpe ratio portfolio weights will be determined and used to train the model. Regression trees are used to predict the optimal weights that will be used to monthly rebalance the portfolio. \n"
   ]
  },
  {
   "cell_type": "markdown",
   "metadata": {
    "tags": []
   },
   "source": [
    "### Dependent variables: Monthly optimal Sharpe ratio weights"
   ]
  },
  {
   "cell_type": "markdown",
   "metadata": {},
   "source": [
    "For each month, we want to get the portfolio weights of the optimal Sharpe ratio portfolio. The pyportfolio opt library does only work with annualized and not monthly data. Hence, the optimal portfolios will be manually calculated by generating a set of random portfolios and selecting the maximum Sharpe ratio portfolio for each month."
   ]
  },
  {
   "cell_type": "code",
   "execution_count": 11,
   "metadata": {},
   "outputs": [],
   "source": [
    "# Get ex-post covariance matrix for each month (using daily returns of respective month):\n",
    "daily_return_i = daily_returns.index\n",
    "entire_monthly_index = pd.period_range('2011-01','2021-07', freq='M')\n",
    "covariances = {}\n",
    "for i in entire_monthly_index: \n",
    "    mask = (daily_return_i.month == i.month) & (daily_return_i.year == i.year)\n",
    "    covariances[i] = daily_returns[mask].cov()"
   ]
  },
  {
   "cell_type": "code",
   "execution_count": 12,
   "metadata": {},
   "outputs": [],
   "source": [
    "# Compute monthly returns \n",
    "monthly_data = my_data.asfreq('BM').ffill()\n",
    "monthly_ret = (monthly_data/monthly_data.shift(1) -1).dropna()\n",
    "# Add return for July 2021 (not considered above as dataframe ends before end of July)\n",
    "monthly_ret = monthly_ret.append(my_data['2021-07'].iloc[-1]/my_data['2021-06'].iloc[-1] -1,ignore_index=True)\n",
    "# Use index of covariances for consistency\n",
    "monthly_ret.index = sorted(covariances.keys())"
   ]
  },
  {
   "cell_type": "code",
   "execution_count": 13,
   "metadata": {},
   "outputs": [],
   "source": [
    "# Generate 1000 random portfolios per month and calculate returns + volatility for each portfolio\n",
    "portfolio_returns, portfolio_volatility, portfolio_weights = {}, {}, {}\n",
    "np.random.seed(1)\n",
    "\n",
    "for date in sorted(covariances.keys()):\n",
    "    cov = covariances[date]\n",
    "    for portfolio in range(10):\n",
    "        weights = np.random.random(10)\n",
    "        weights /= np.sum(weights) \n",
    "        returns = np.dot(weights, monthly_ret.loc[date])\n",
    "        volatility = np.sqrt(np.dot(weights.T, np.dot(cov, weights)))\n",
    "        portfolio_returns.setdefault(date, []).append(returns)\n",
    "        portfolio_volatility.setdefault(date, []).append(volatility)\n",
    "        portfolio_weights.setdefault(date, []).append(weights)"
   ]
  },
  {
   "cell_type": "code",
   "execution_count": 14,
   "metadata": {},
   "outputs": [],
   "source": [
    "# Loop through each month to calculate sharpe ratio of each portfolio\n",
    "sharpe_ratio, max_sharpe_idxs = {}, {}\n",
    "\n",
    "for date in portfolio_returns.keys():\n",
    "    for i, ret in enumerate(portfolio_returns[date]):\n",
    "    \n",
    "        \n",
    "        sharpe_ratio.setdefault(date, []).append(ret / portfolio_volatility[date][i])\n",
    "\n",
    "    # Get the index of the best sharpe ratio for each month\n",
    "    max_sharpe_idxs[date] = np.argmax(sharpe_ratio[date])"
   ]
  },
  {
   "cell_type": "code",
   "execution_count": 15,
   "metadata": {},
   "outputs": [],
   "source": [
    "# Loop through each month to select the portfolio with the highest Sharpe ratio\n",
    "targets = []\n",
    "\n",
    "for date in portfolio_weights.keys():\n",
    "\n",
    "   \n",
    "    best_idx = max_sharpe_idxs[date]\n",
    "    targets.append(portfolio_weights[date][best_idx]) # Append the monthly maximum Sharpe ratio portfolio \n",
    "                                                        # to target list.\n"
   ]
  },
  {
   "cell_type": "code",
   "execution_count": 16,
   "metadata": {},
   "outputs": [
    {
     "data": {
      "text/html": [
       "<div>\n",
       "<style scoped>\n",
       "    .dataframe tbody tr th:only-of-type {\n",
       "        vertical-align: middle;\n",
       "    }\n",
       "\n",
       "    .dataframe tbody tr th {\n",
       "        vertical-align: top;\n",
       "    }\n",
       "\n",
       "    .dataframe thead th {\n",
       "        text-align: right;\n",
       "    }\n",
       "</style>\n",
       "<table border=\"1\" class=\"dataframe\">\n",
       "  <thead>\n",
       "    <tr style=\"text-align: right;\">\n",
       "      <th></th>\n",
       "      <th>VTI</th>\n",
       "      <th>IUSV</th>\n",
       "      <th>VBR</th>\n",
       "      <th>VEA</th>\n",
       "      <th>VWO</th>\n",
       "      <th>SHV</th>\n",
       "      <th>STIP</th>\n",
       "      <th>AGG</th>\n",
       "      <th>IBND</th>\n",
       "      <th>EMB</th>\n",
       "    </tr>\n",
       "  </thead>\n",
       "  <tbody>\n",
       "    <tr>\n",
       "      <th>2011-02</th>\n",
       "      <td>0.052161</td>\n",
       "      <td>0.084164</td>\n",
       "      <td>0.141473</td>\n",
       "      <td>0.057051</td>\n",
       "      <td>0.145080</td>\n",
       "      <td>0.099542</td>\n",
       "      <td>0.002526</td>\n",
       "      <td>0.148418</td>\n",
       "      <td>0.110327</td>\n",
       "      <td>0.159259</td>\n",
       "    </tr>\n",
       "    <tr>\n",
       "      <th>2011-03</th>\n",
       "      <td>0.136937</td>\n",
       "      <td>0.080224</td>\n",
       "      <td>0.131955</td>\n",
       "      <td>0.092461</td>\n",
       "      <td>0.056207</td>\n",
       "      <td>0.070040</td>\n",
       "      <td>0.087092</td>\n",
       "      <td>0.079200</td>\n",
       "      <td>0.133479</td>\n",
       "      <td>0.132406</td>\n",
       "    </tr>\n",
       "    <tr>\n",
       "      <th>2011-04</th>\n",
       "      <td>0.160841</td>\n",
       "      <td>0.173343</td>\n",
       "      <td>0.136385</td>\n",
       "      <td>0.112825</td>\n",
       "      <td>0.031891</td>\n",
       "      <td>0.092496</td>\n",
       "      <td>0.068384</td>\n",
       "      <td>0.044584</td>\n",
       "      <td>0.117385</td>\n",
       "      <td>0.061865</td>\n",
       "    </tr>\n",
       "    <tr>\n",
       "      <th>2011-05</th>\n",
       "      <td>0.195156</td>\n",
       "      <td>0.163531</td>\n",
       "      <td>0.006575</td>\n",
       "      <td>0.144294</td>\n",
       "      <td>0.094585</td>\n",
       "      <td>0.192738</td>\n",
       "      <td>0.045041</td>\n",
       "      <td>0.054324</td>\n",
       "      <td>0.016572</td>\n",
       "      <td>0.087184</td>\n",
       "    </tr>\n",
       "    <tr>\n",
       "      <th>2011-06</th>\n",
       "      <td>0.023215</td>\n",
       "      <td>0.060321</td>\n",
       "      <td>0.083426</td>\n",
       "      <td>0.046378</td>\n",
       "      <td>0.161104</td>\n",
       "      <td>0.109753</td>\n",
       "      <td>0.216635</td>\n",
       "      <td>0.049128</td>\n",
       "      <td>0.186257</td>\n",
       "      <td>0.063783</td>\n",
       "    </tr>\n",
       "    <tr>\n",
       "      <th>...</th>\n",
       "      <td>...</td>\n",
       "      <td>...</td>\n",
       "      <td>...</td>\n",
       "      <td>...</td>\n",
       "      <td>...</td>\n",
       "      <td>...</td>\n",
       "      <td>...</td>\n",
       "      <td>...</td>\n",
       "      <td>...</td>\n",
       "      <td>...</td>\n",
       "    </tr>\n",
       "    <tr>\n",
       "      <th>2021-03</th>\n",
       "      <td>0.122258</td>\n",
       "      <td>0.136455</td>\n",
       "      <td>0.122208</td>\n",
       "      <td>0.137415</td>\n",
       "      <td>0.061551</td>\n",
       "      <td>0.065294</td>\n",
       "      <td>0.101284</td>\n",
       "      <td>0.135112</td>\n",
       "      <td>0.026303</td>\n",
       "      <td>0.092122</td>\n",
       "    </tr>\n",
       "    <tr>\n",
       "      <th>2021-04</th>\n",
       "      <td>0.074420</td>\n",
       "      <td>0.174036</td>\n",
       "      <td>0.074925</td>\n",
       "      <td>0.000259</td>\n",
       "      <td>0.109390</td>\n",
       "      <td>0.019586</td>\n",
       "      <td>0.142426</td>\n",
       "      <td>0.206081</td>\n",
       "      <td>0.184377</td>\n",
       "      <td>0.014501</td>\n",
       "    </tr>\n",
       "    <tr>\n",
       "      <th>2021-05</th>\n",
       "      <td>0.053461</td>\n",
       "      <td>0.071149</td>\n",
       "      <td>0.091495</td>\n",
       "      <td>0.120706</td>\n",
       "      <td>0.054371</td>\n",
       "      <td>0.110221</td>\n",
       "      <td>0.142258</td>\n",
       "      <td>0.071858</td>\n",
       "      <td>0.170788</td>\n",
       "      <td>0.113692</td>\n",
       "    </tr>\n",
       "    <tr>\n",
       "      <th>2021-06</th>\n",
       "      <td>0.097432</td>\n",
       "      <td>0.060557</td>\n",
       "      <td>0.101891</td>\n",
       "      <td>0.194525</td>\n",
       "      <td>0.145841</td>\n",
       "      <td>0.076324</td>\n",
       "      <td>0.131512</td>\n",
       "      <td>0.131851</td>\n",
       "      <td>0.001115</td>\n",
       "      <td>0.058951</td>\n",
       "    </tr>\n",
       "    <tr>\n",
       "      <th>2021-07</th>\n",
       "      <td>0.148713</td>\n",
       "      <td>0.209821</td>\n",
       "      <td>0.096026</td>\n",
       "      <td>0.040176</td>\n",
       "      <td>0.034395</td>\n",
       "      <td>0.040252</td>\n",
       "      <td>0.167892</td>\n",
       "      <td>0.013078</td>\n",
       "      <td>0.051713</td>\n",
       "      <td>0.197934</td>\n",
       "    </tr>\n",
       "  </tbody>\n",
       "</table>\n",
       "<p>126 rows × 10 columns</p>\n",
       "</div>"
      ],
      "text/plain": [
       "              VTI      IUSV       VBR       VEA       VWO       SHV      STIP  \\\n",
       "2011-02  0.052161  0.084164  0.141473  0.057051  0.145080  0.099542  0.002526   \n",
       "2011-03  0.136937  0.080224  0.131955  0.092461  0.056207  0.070040  0.087092   \n",
       "2011-04  0.160841  0.173343  0.136385  0.112825  0.031891  0.092496  0.068384   \n",
       "2011-05  0.195156  0.163531  0.006575  0.144294  0.094585  0.192738  0.045041   \n",
       "2011-06  0.023215  0.060321  0.083426  0.046378  0.161104  0.109753  0.216635   \n",
       "...           ...       ...       ...       ...       ...       ...       ...   \n",
       "2021-03  0.122258  0.136455  0.122208  0.137415  0.061551  0.065294  0.101284   \n",
       "2021-04  0.074420  0.174036  0.074925  0.000259  0.109390  0.019586  0.142426   \n",
       "2021-05  0.053461  0.071149  0.091495  0.120706  0.054371  0.110221  0.142258   \n",
       "2021-06  0.097432  0.060557  0.101891  0.194525  0.145841  0.076324  0.131512   \n",
       "2021-07  0.148713  0.209821  0.096026  0.040176  0.034395  0.040252  0.167892   \n",
       "\n",
       "              AGG      IBND       EMB  \n",
       "2011-02  0.148418  0.110327  0.159259  \n",
       "2011-03  0.079200  0.133479  0.132406  \n",
       "2011-04  0.044584  0.117385  0.061865  \n",
       "2011-05  0.054324  0.016572  0.087184  \n",
       "2011-06  0.049128  0.186257  0.063783  \n",
       "...           ...       ...       ...  \n",
       "2021-03  0.135112  0.026303  0.092122  \n",
       "2021-04  0.206081  0.184377  0.014501  \n",
       "2021-05  0.071858  0.170788  0.113692  \n",
       "2021-06  0.131851  0.001115  0.058951  \n",
       "2021-07  0.013078  0.051713  0.197934  \n",
       "\n",
       "[126 rows x 10 columns]"
      ]
     },
     "execution_count": 16,
     "metadata": {},
     "output_type": "execute_result"
    }
   ],
   "source": [
    "# As features use price data starting January 2011, Y should start February 2011\n",
    "Y = pd.DataFrame(targets, columns = monthly_data.columns, index=monthly_ret.index)\n",
    "Y.drop(['2011-01'], axis=0, inplace=True)\n",
    "Y"
   ]
  },
  {
   "cell_type": "markdown",
   "metadata": {
    "tags": []
   },
   "source": [
    "### Independent variables"
   ]
  },
  {
   "cell_type": "code",
   "execution_count": 17,
   "metadata": {},
   "outputs": [],
   "source": [
    "# Import features (make sure csv files are in same working directory)\n",
    "feature_names=['RSI','EWMA','CAPM','Fama-French','VaR','CVaR','Trimmed Mean']\n",
    "path_name=['RSI.csv','EWMA.csv','CAPM_returns.csv','Fama_French_returns.csv'\\\n",
    "          ,'Value_at_risk.csv','Cond_Value_at_risk.csv','Trimmed_mean.csv']\n",
    "\n",
    "i=0\n",
    "features = {}\n",
    "for name in feature_names: \n",
    "    \n",
    "    path = path_name[i]\n",
    "    features[name]=pd.read_csv(path, index_col=[0])\n",
    "    i+=1\n",
    "    \n"
   ]
  },
  {
   "cell_type": "code",
   "execution_count": 18,
   "metadata": {},
   "outputs": [
    {
     "data": {
      "text/html": [
       "<div>\n",
       "<style scoped>\n",
       "    .dataframe tbody tr th:only-of-type {\n",
       "        vertical-align: middle;\n",
       "    }\n",
       "\n",
       "    .dataframe tbody tr th {\n",
       "        vertical-align: top;\n",
       "    }\n",
       "\n",
       "    .dataframe thead tr th {\n",
       "        text-align: left;\n",
       "    }\n",
       "</style>\n",
       "<table border=\"1\" class=\"dataframe\">\n",
       "  <thead>\n",
       "    <tr>\n",
       "      <th></th>\n",
       "      <th colspan=\"10\" halign=\"left\">RSI</th>\n",
       "      <th>...</th>\n",
       "      <th colspan=\"10\" halign=\"left\">Trimmed Mean</th>\n",
       "    </tr>\n",
       "    <tr>\n",
       "      <th></th>\n",
       "      <th>VTI</th>\n",
       "      <th>IUSV</th>\n",
       "      <th>VBR</th>\n",
       "      <th>VEA</th>\n",
       "      <th>VWO</th>\n",
       "      <th>SHV</th>\n",
       "      <th>STIP</th>\n",
       "      <th>AGG</th>\n",
       "      <th>IBND</th>\n",
       "      <th>EMB</th>\n",
       "      <th>...</th>\n",
       "      <th>VTI</th>\n",
       "      <th>IUSV</th>\n",
       "      <th>VBR</th>\n",
       "      <th>VEA</th>\n",
       "      <th>VWO</th>\n",
       "      <th>SHV</th>\n",
       "      <th>STIP</th>\n",
       "      <th>AGG</th>\n",
       "      <th>IBND</th>\n",
       "      <th>EMB</th>\n",
       "    </tr>\n",
       "  </thead>\n",
       "  <tbody>\n",
       "    <tr>\n",
       "      <th>2011-01</th>\n",
       "      <td>50.160415</td>\n",
       "      <td>50.345952</td>\n",
       "      <td>49.667940</td>\n",
       "      <td>51.135190</td>\n",
       "      <td>50.774697</td>\n",
       "      <td>50.000000</td>\n",
       "      <td>49.998315</td>\n",
       "      <td>48.470388</td>\n",
       "      <td>52.052763</td>\n",
       "      <td>54.146778</td>\n",
       "      <td>...</td>\n",
       "      <td>0.001573</td>\n",
       "      <td>0.001381</td>\n",
       "      <td>0.000731</td>\n",
       "      <td>0.001344</td>\n",
       "      <td>-0.001422</td>\n",
       "      <td>2.750385e-09</td>\n",
       "      <td>0.000603</td>\n",
       "      <td>0.000024</td>\n",
       "      <td>0.001076</td>\n",
       "      <td>-0.000483</td>\n",
       "    </tr>\n",
       "    <tr>\n",
       "      <th>2011-02</th>\n",
       "      <td>51.413543</td>\n",
       "      <td>51.601421</td>\n",
       "      <td>50.726199</td>\n",
       "      <td>51.040874</td>\n",
       "      <td>52.702374</td>\n",
       "      <td>50.001348</td>\n",
       "      <td>48.901025</td>\n",
       "      <td>49.054229</td>\n",
       "      <td>49.970448</td>\n",
       "      <td>49.456427</td>\n",
       "      <td>...</td>\n",
       "      <td>0.001943</td>\n",
       "      <td>0.001885</td>\n",
       "      <td>0.002471</td>\n",
       "      <td>0.001942</td>\n",
       "      <td>-0.000020</td>\n",
       "      <td>4.785920e-06</td>\n",
       "      <td>0.000309</td>\n",
       "      <td>0.000155</td>\n",
       "      <td>0.000802</td>\n",
       "      <td>-0.000026</td>\n",
       "    </tr>\n",
       "    <tr>\n",
       "      <th>2011-03</th>\n",
       "      <td>49.083832</td>\n",
       "      <td>48.781377</td>\n",
       "      <td>49.502151</td>\n",
       "      <td>48.128038</td>\n",
       "      <td>49.874067</td>\n",
       "      <td>49.210906</td>\n",
       "      <td>50.003282</td>\n",
       "      <td>49.071925</td>\n",
       "      <td>47.714358</td>\n",
       "      <td>49.754906</td>\n",
       "      <td>...</td>\n",
       "      <td>0.000302</td>\n",
       "      <td>0.000461</td>\n",
       "      <td>0.000856</td>\n",
       "      <td>-0.001178</td>\n",
       "      <td>0.003053</td>\n",
       "      <td>-4.122544e-07</td>\n",
       "      <td>0.000253</td>\n",
       "      <td>-0.000104</td>\n",
       "      <td>0.000344</td>\n",
       "      <td>0.000703</td>\n",
       "    </tr>\n",
       "    <tr>\n",
       "      <th>2011-04</th>\n",
       "      <td>47.649244</td>\n",
       "      <td>46.871724</td>\n",
       "      <td>49.191585</td>\n",
       "      <td>45.534533</td>\n",
       "      <td>49.061523</td>\n",
       "      <td>51.613871</td>\n",
       "      <td>49.303332</td>\n",
       "      <td>51.126732</td>\n",
       "      <td>49.327557</td>\n",
       "      <td>50.593060</td>\n",
       "      <td>...</td>\n",
       "      <td>0.001463</td>\n",
       "      <td>0.001426</td>\n",
       "      <td>0.001194</td>\n",
       "      <td>0.003046</td>\n",
       "      <td>0.001810</td>\n",
       "      <td>4.031405e-05</td>\n",
       "      <td>0.000792</td>\n",
       "      <td>0.000818</td>\n",
       "      <td>0.003252</td>\n",
       "      <td>0.000789</td>\n",
       "    </tr>\n",
       "    <tr>\n",
       "      <th>2011-05</th>\n",
       "      <td>51.375317</td>\n",
       "      <td>51.283773</td>\n",
       "      <td>50.438114</td>\n",
       "      <td>53.138948</td>\n",
       "      <td>51.946504</td>\n",
       "      <td>50.387712</td>\n",
       "      <td>46.228197</td>\n",
       "      <td>46.743324</td>\n",
       "      <td>52.749683</td>\n",
       "      <td>52.708207</td>\n",
       "      <td>...</td>\n",
       "      <td>-0.000434</td>\n",
       "      <td>-0.000343</td>\n",
       "      <td>-0.000939</td>\n",
       "      <td>-0.001194</td>\n",
       "      <td>-0.001290</td>\n",
       "      <td>-4.739851e-07</td>\n",
       "      <td>-0.000011</td>\n",
       "      <td>0.000624</td>\n",
       "      <td>-0.000718</td>\n",
       "      <td>0.000608</td>\n",
       "    </tr>\n",
       "    <tr>\n",
       "      <th>...</th>\n",
       "      <td>...</td>\n",
       "      <td>...</td>\n",
       "      <td>...</td>\n",
       "      <td>...</td>\n",
       "      <td>...</td>\n",
       "      <td>...</td>\n",
       "      <td>...</td>\n",
       "      <td>...</td>\n",
       "      <td>...</td>\n",
       "      <td>...</td>\n",
       "      <td>...</td>\n",
       "      <td>...</td>\n",
       "      <td>...</td>\n",
       "      <td>...</td>\n",
       "      <td>...</td>\n",
       "      <td>...</td>\n",
       "      <td>...</td>\n",
       "      <td>...</td>\n",
       "      <td>...</td>\n",
       "      <td>...</td>\n",
       "      <td>...</td>\n",
       "    </tr>\n",
       "    <tr>\n",
       "      <th>2021-02</th>\n",
       "      <td>49.232993</td>\n",
       "      <td>48.266662</td>\n",
       "      <td>50.448908</td>\n",
       "      <td>47.934277</td>\n",
       "      <td>47.964093</td>\n",
       "      <td>51.999427</td>\n",
       "      <td>55.736410</td>\n",
       "      <td>53.212390</td>\n",
       "      <td>49.802441</td>\n",
       "      <td>49.932741</td>\n",
       "      <td>...</td>\n",
       "      <td>0.001673</td>\n",
       "      <td>0.003189</td>\n",
       "      <td>0.004517</td>\n",
       "      <td>0.001296</td>\n",
       "      <td>0.000897</td>\n",
       "      <td>2.584791e-09</td>\n",
       "      <td>0.000091</td>\n",
       "      <td>-0.000800</td>\n",
       "      <td>-0.000714</td>\n",
       "      <td>-0.001610</td>\n",
       "    </tr>\n",
       "    <tr>\n",
       "      <th>2021-03</th>\n",
       "      <td>50.963825</td>\n",
       "      <td>48.998040</td>\n",
       "      <td>50.346162</td>\n",
       "      <td>50.599428</td>\n",
       "      <td>50.151249</td>\n",
       "      <td>50.000000</td>\n",
       "      <td>50.161309</td>\n",
       "      <td>49.074646</td>\n",
       "      <td>52.130728</td>\n",
       "      <td>49.157937</td>\n",
       "      <td>...</td>\n",
       "      <td>0.001422</td>\n",
       "      <td>0.002543</td>\n",
       "      <td>0.002790</td>\n",
       "      <td>0.001135</td>\n",
       "      <td>-0.000397</td>\n",
       "      <td>-4.305101e-06</td>\n",
       "      <td>0.000303</td>\n",
       "      <td>-0.000456</td>\n",
       "      <td>-0.001161</td>\n",
       "      <td>-0.000056</td>\n",
       "    </tr>\n",
       "    <tr>\n",
       "      <th>2021-04</th>\n",
       "      <td>52.081216</td>\n",
       "      <td>49.808131</td>\n",
       "      <td>50.418071</td>\n",
       "      <td>49.305759</td>\n",
       "      <td>50.109656</td>\n",
       "      <td>50.000000</td>\n",
       "      <td>55.078523</td>\n",
       "      <td>53.352784</td>\n",
       "      <td>47.663118</td>\n",
       "      <td>55.053959</td>\n",
       "      <td>...</td>\n",
       "      <td>0.002437</td>\n",
       "      <td>0.001831</td>\n",
       "      <td>0.002086</td>\n",
       "      <td>0.001700</td>\n",
       "      <td>0.001018</td>\n",
       "      <td>-4.758700e-06</td>\n",
       "      <td>0.000360</td>\n",
       "      <td>0.000316</td>\n",
       "      <td>0.001329</td>\n",
       "      <td>0.000905</td>\n",
       "    </tr>\n",
       "    <tr>\n",
       "      <th>2021-05</th>\n",
       "      <td>52.081216</td>\n",
       "      <td>49.808131</td>\n",
       "      <td>50.418071</td>\n",
       "      <td>49.305759</td>\n",
       "      <td>50.109656</td>\n",
       "      <td>50.000000</td>\n",
       "      <td>55.078523</td>\n",
       "      <td>53.352784</td>\n",
       "      <td>47.663118</td>\n",
       "      <td>55.053959</td>\n",
       "      <td>...</td>\n",
       "      <td>0.000600</td>\n",
       "      <td>0.001565</td>\n",
       "      <td>0.001799</td>\n",
       "      <td>0.002088</td>\n",
       "      <td>0.001505</td>\n",
       "      <td>9.087361e-10</td>\n",
       "      <td>0.000502</td>\n",
       "      <td>0.000119</td>\n",
       "      <td>0.000733</td>\n",
       "      <td>0.000659</td>\n",
       "    </tr>\n",
       "    <tr>\n",
       "      <th>2021-06</th>\n",
       "      <td>52.142198</td>\n",
       "      <td>53.074338</td>\n",
       "      <td>52.394377</td>\n",
       "      <td>47.761120</td>\n",
       "      <td>46.332080</td>\n",
       "      <td>50.000000</td>\n",
       "      <td>50.556679</td>\n",
       "      <td>51.297398</td>\n",
       "      <td>47.095241</td>\n",
       "      <td>50.529483</td>\n",
       "      <td>...</td>\n",
       "      <td>0.001171</td>\n",
       "      <td>-0.000721</td>\n",
       "      <td>-0.000572</td>\n",
       "      <td>-0.000174</td>\n",
       "      <td>0.000322</td>\n",
       "      <td>-4.521759e-06</td>\n",
       "      <td>0.000148</td>\n",
       "      <td>0.000370</td>\n",
       "      <td>-0.000829</td>\n",
       "      <td>0.000528</td>\n",
       "    </tr>\n",
       "  </tbody>\n",
       "</table>\n",
       "<p>126 rows × 70 columns</p>\n",
       "</div>"
      ],
      "text/plain": [
       "               RSI                                                         \\\n",
       "               VTI       IUSV        VBR        VEA        VWO        SHV   \n",
       "2011-01  50.160415  50.345952  49.667940  51.135190  50.774697  50.000000   \n",
       "2011-02  51.413543  51.601421  50.726199  51.040874  52.702374  50.001348   \n",
       "2011-03  49.083832  48.781377  49.502151  48.128038  49.874067  49.210906   \n",
       "2011-04  47.649244  46.871724  49.191585  45.534533  49.061523  51.613871   \n",
       "2011-05  51.375317  51.283773  50.438114  53.138948  51.946504  50.387712   \n",
       "...            ...        ...        ...        ...        ...        ...   \n",
       "2021-02  49.232993  48.266662  50.448908  47.934277  47.964093  51.999427   \n",
       "2021-03  50.963825  48.998040  50.346162  50.599428  50.151249  50.000000   \n",
       "2021-04  52.081216  49.808131  50.418071  49.305759  50.109656  50.000000   \n",
       "2021-05  52.081216  49.808131  50.418071  49.305759  50.109656  50.000000   \n",
       "2021-06  52.142198  53.074338  52.394377  47.761120  46.332080  50.000000   \n",
       "\n",
       "                                                     ... Trimmed Mean  \\\n",
       "              STIP        AGG       IBND        EMB  ...          VTI   \n",
       "2011-01  49.998315  48.470388  52.052763  54.146778  ...     0.001573   \n",
       "2011-02  48.901025  49.054229  49.970448  49.456427  ...     0.001943   \n",
       "2011-03  50.003282  49.071925  47.714358  49.754906  ...     0.000302   \n",
       "2011-04  49.303332  51.126732  49.327557  50.593060  ...     0.001463   \n",
       "2011-05  46.228197  46.743324  52.749683  52.708207  ...    -0.000434   \n",
       "...            ...        ...        ...        ...  ...          ...   \n",
       "2021-02  55.736410  53.212390  49.802441  49.932741  ...     0.001673   \n",
       "2021-03  50.161309  49.074646  52.130728  49.157937  ...     0.001422   \n",
       "2021-04  55.078523  53.352784  47.663118  55.053959  ...     0.002437   \n",
       "2021-05  55.078523  53.352784  47.663118  55.053959  ...     0.000600   \n",
       "2021-06  50.556679  51.297398  47.095241  50.529483  ...     0.001171   \n",
       "\n",
       "                                                                         \\\n",
       "             IUSV       VBR       VEA       VWO           SHV      STIP   \n",
       "2011-01  0.001381  0.000731  0.001344 -0.001422  2.750385e-09  0.000603   \n",
       "2011-02  0.001885  0.002471  0.001942 -0.000020  4.785920e-06  0.000309   \n",
       "2011-03  0.000461  0.000856 -0.001178  0.003053 -4.122544e-07  0.000253   \n",
       "2011-04  0.001426  0.001194  0.003046  0.001810  4.031405e-05  0.000792   \n",
       "2011-05 -0.000343 -0.000939 -0.001194 -0.001290 -4.739851e-07 -0.000011   \n",
       "...           ...       ...       ...       ...           ...       ...   \n",
       "2021-02  0.003189  0.004517  0.001296  0.000897  2.584791e-09  0.000091   \n",
       "2021-03  0.002543  0.002790  0.001135 -0.000397 -4.305101e-06  0.000303   \n",
       "2021-04  0.001831  0.002086  0.001700  0.001018 -4.758700e-06  0.000360   \n",
       "2021-05  0.001565  0.001799  0.002088  0.001505  9.087361e-10  0.000502   \n",
       "2021-06 -0.000721 -0.000572 -0.000174  0.000322 -4.521759e-06  0.000148   \n",
       "\n",
       "                                       \n",
       "              AGG      IBND       EMB  \n",
       "2011-01  0.000024  0.001076 -0.000483  \n",
       "2011-02  0.000155  0.000802 -0.000026  \n",
       "2011-03 -0.000104  0.000344  0.000703  \n",
       "2011-04  0.000818  0.003252  0.000789  \n",
       "2011-05  0.000624 -0.000718  0.000608  \n",
       "...           ...       ...       ...  \n",
       "2021-02 -0.000800 -0.000714 -0.001610  \n",
       "2021-03 -0.000456 -0.001161 -0.000056  \n",
       "2021-04  0.000316  0.001329  0.000905  \n",
       "2021-05  0.000119  0.000733  0.000659  \n",
       "2021-06  0.000370 -0.000829  0.000528  \n",
       "\n",
       "[126 rows x 70 columns]"
      ]
     },
     "execution_count": 18,
     "metadata": {},
     "output_type": "execute_result"
    }
   ],
   "source": [
    "# Merge features in a dataframe (X matrix)\n",
    "X= pd.concat(features, axis=1)\n",
    "X"
   ]
  },
  {
   "cell_type": "markdown",
   "metadata": {
    "tags": []
   },
   "source": [
    "### Tree-based regression"
   ]
  },
  {
   "cell_type": "code",
   "execution_count": 19,
   "metadata": {},
   "outputs": [],
   "source": [
    "def one_step_forward_predictor(model,train_set,test_set,\n",
    "                          expanding_window=pd.period_range('2014-12','2021-05', freq='M')):\n",
    "    predictions=[]\n",
    "    for month in expanding_window: \n",
    "        end_period_X = str(month)\n",
    "        end_period_Y = str(month + 1)\n",
    "        model.fit(train_set[:end_period_X],test_set[:end_period_Y])\n",
    "        prediction = model.predict(train_set.loc[[end_period_Y]])\n",
    "        predictions.append(prediction)\n",
    "    predictions = np.concatenate(predictions)\n",
    "    pred_df = pd.DataFrame(predictions, columns = Y.columns, index = expanding_window + 1)\n",
    "    return pred_df"
   ]
  },
  {
   "cell_type": "code",
   "execution_count": 62,
   "metadata": {},
   "outputs": [
    {
     "data": {
      "text/plain": [
       "2015-01-05   -0.001655\n",
       "2015-01-06    0.000067\n",
       "2015-01-07    0.002194\n",
       "2015-01-08    0.002262\n",
       "2015-01-09    0.000312\n",
       "                ...   \n",
       "2021-06-24    0.002278\n",
       "2021-06-25   -0.000278\n",
       "2021-06-28    0.002349\n",
       "2021-06-29    0.000378\n",
       "2021-06-30    0.000500\n",
       "Length: 1634, dtype: float64"
      ]
     },
     "execution_count": 62,
     "metadata": {},
     "output_type": "execute_result"
    }
   ],
   "source": [
    "get_daily_portfolio_returns(daily_returns,MVO_monthly_weights)"
   ]
  },
  {
   "cell_type": "code",
   "execution_count": 69,
   "metadata": {},
   "outputs": [
    {
     "data": {
      "text/plain": [
       "0"
      ]
     },
     "execution_count": 69,
     "metadata": {},
     "output_type": "execute_result"
    }
   ],
   "source": [
    "(daily_returns_MVO.iloc[:-16] != get_daily_portfolio_returns(daily_returns,MVO_monthly_weights)).sum()"
   ]
  },
  {
   "cell_type": "markdown",
   "metadata": {
    "tags": []
   },
   "source": [
    "#### Decision tree"
   ]
  },
  {
   "cell_type": "code",
   "execution_count": 21,
   "metadata": {},
   "outputs": [
    {
     "name": "stdout",
     "output_type": "stream",
     "text": [
      "0.0\n",
      "0.0658236067132978\n"
     ]
    }
   ],
   "source": [
    "# First, an unconstrained decision tree is fitted on training set (2011 - 2014) to predict weights for the year 2015:\n",
    "dt = DecisionTreeRegressor(random_state=1)\n",
    "dt.fit(X[:'2014-11'], Y[:'2014-12'])\n",
    "train_pred = dt.predict(X[:'2014-11'])\n",
    "test_pred = dt.predict(X['2014-12':'2015-11'])\n",
    "print(mean_absolute_error(train_pred, Y[:'2014-12']))\n",
    "print(mean_absolute_error(test_pred, Y['2015-01':'2015-12']))"
   ]
  },
  {
   "cell_type": "markdown",
   "metadata": {},
   "source": [
    "We have a clear case of overfitting, as the model does perfectly well on the training data and fails to accurately predict the optimal weights based on new data."
   ]
  },
  {
   "cell_type": "markdown",
   "metadata": {},
   "source": [
    "One possible reason for overfitting is that the data is very limited. In order to make best use of the data, a one-step-forward approach will be used."
   ]
  },
  {
   "cell_type": "code",
   "execution_count": 22,
   "metadata": {},
   "outputs": [],
   "source": [
    "dt = DecisionTreeRegressor(random_state=1)\n",
    "predictions_dt = one_step_forward_predictor(dt,X,Y)"
   ]
  },
  {
   "cell_type": "code",
   "execution_count": 23,
   "metadata": {},
   "outputs": [
    {
     "data": {
      "text/html": [
       "<div>\n",
       "<style scoped>\n",
       "    .dataframe tbody tr th:only-of-type {\n",
       "        vertical-align: middle;\n",
       "    }\n",
       "\n",
       "    .dataframe tbody tr th {\n",
       "        vertical-align: top;\n",
       "    }\n",
       "\n",
       "    .dataframe thead th {\n",
       "        text-align: right;\n",
       "    }\n",
       "</style>\n",
       "<table border=\"1\" class=\"dataframe\">\n",
       "  <thead>\n",
       "    <tr style=\"text-align: right;\">\n",
       "      <th></th>\n",
       "      <th>VTI</th>\n",
       "      <th>IUSV</th>\n",
       "      <th>VBR</th>\n",
       "      <th>VEA</th>\n",
       "      <th>VWO</th>\n",
       "      <th>SHV</th>\n",
       "      <th>STIP</th>\n",
       "      <th>AGG</th>\n",
       "      <th>IBND</th>\n",
       "      <th>EMB</th>\n",
       "    </tr>\n",
       "  </thead>\n",
       "  <tbody>\n",
       "    <tr>\n",
       "      <th>2015-01</th>\n",
       "      <td>0.024290</td>\n",
       "      <td>0.144697</td>\n",
       "      <td>0.176280</td>\n",
       "      <td>0.061841</td>\n",
       "      <td>0.044128</td>\n",
       "      <td>0.034642</td>\n",
       "      <td>0.182853</td>\n",
       "      <td>0.109464</td>\n",
       "      <td>0.163272</td>\n",
       "      <td>0.058534</td>\n",
       "    </tr>\n",
       "    <tr>\n",
       "      <th>2015-02</th>\n",
       "      <td>0.117704</td>\n",
       "      <td>0.128961</td>\n",
       "      <td>0.057952</td>\n",
       "      <td>0.080483</td>\n",
       "      <td>0.136601</td>\n",
       "      <td>0.110919</td>\n",
       "      <td>0.003936</td>\n",
       "      <td>0.048648</td>\n",
       "      <td>0.163500</td>\n",
       "      <td>0.151295</td>\n",
       "    </tr>\n",
       "    <tr>\n",
       "      <th>2015-03</th>\n",
       "      <td>0.131033</td>\n",
       "      <td>0.005925</td>\n",
       "      <td>0.031600</td>\n",
       "      <td>0.161413</td>\n",
       "      <td>0.158662</td>\n",
       "      <td>0.091913</td>\n",
       "      <td>0.106693</td>\n",
       "      <td>0.044932</td>\n",
       "      <td>0.157224</td>\n",
       "      <td>0.110604</td>\n",
       "    </tr>\n",
       "    <tr>\n",
       "      <th>2015-04</th>\n",
       "      <td>0.054958</td>\n",
       "      <td>0.091508</td>\n",
       "      <td>0.091419</td>\n",
       "      <td>0.024206</td>\n",
       "      <td>0.082492</td>\n",
       "      <td>0.164406</td>\n",
       "      <td>0.116267</td>\n",
       "      <td>0.219113</td>\n",
       "      <td>0.067205</td>\n",
       "      <td>0.088425</td>\n",
       "    </tr>\n",
       "    <tr>\n",
       "      <th>2015-05</th>\n",
       "      <td>0.127235</td>\n",
       "      <td>0.196078</td>\n",
       "      <td>0.019975</td>\n",
       "      <td>0.025847</td>\n",
       "      <td>0.126010</td>\n",
       "      <td>0.157172</td>\n",
       "      <td>0.165411</td>\n",
       "      <td>0.074575</td>\n",
       "      <td>0.008994</td>\n",
       "      <td>0.098703</td>\n",
       "    </tr>\n",
       "  </tbody>\n",
       "</table>\n",
       "</div>"
      ],
      "text/plain": [
       "              VTI      IUSV       VBR       VEA       VWO       SHV      STIP  \\\n",
       "2015-01  0.024290  0.144697  0.176280  0.061841  0.044128  0.034642  0.182853   \n",
       "2015-02  0.117704  0.128961  0.057952  0.080483  0.136601  0.110919  0.003936   \n",
       "2015-03  0.131033  0.005925  0.031600  0.161413  0.158662  0.091913  0.106693   \n",
       "2015-04  0.054958  0.091508  0.091419  0.024206  0.082492  0.164406  0.116267   \n",
       "2015-05  0.127235  0.196078  0.019975  0.025847  0.126010  0.157172  0.165411   \n",
       "\n",
       "              AGG      IBND       EMB  \n",
       "2015-01  0.109464  0.163272  0.058534  \n",
       "2015-02  0.048648  0.163500  0.151295  \n",
       "2015-03  0.044932  0.157224  0.110604  \n",
       "2015-04  0.219113  0.067205  0.088425  \n",
       "2015-05  0.074575  0.008994  0.098703  "
      ]
     },
     "execution_count": 23,
     "metadata": {},
     "output_type": "execute_result"
    }
   ],
   "source": [
    "predictions_dt.head()"
   ]
  },
  {
   "cell_type": "code",
   "execution_count": 24,
   "metadata": {},
   "outputs": [
    {
     "data": {
      "text/plain": [
       "0.063326242469131"
      ]
     },
     "execution_count": 24,
     "metadata": {},
     "output_type": "execute_result"
    }
   ],
   "source": [
    "mean_absolute_error(predictions_dt, Y.loc[predictions_dt.index])"
   ]
  },
  {
   "cell_type": "code",
   "execution_count": 78,
   "metadata": {},
   "outputs": [],
   "source": [
    "daily_returns_dt = get_daily_portfolio_returns(daily_returns,predictions_dt)\n",
    "results_dt = performance_metrics(daily_returns_dt)\n",
    "results['Decision Tree'] = results_dt"
   ]
  },
  {
   "cell_type": "code",
   "execution_count": 79,
   "metadata": {},
   "outputs": [
    {
     "data": {
      "text/html": [
       "<div>\n",
       "<style scoped>\n",
       "    .dataframe tbody tr th:only-of-type {\n",
       "        vertical-align: middle;\n",
       "    }\n",
       "\n",
       "    .dataframe tbody tr th {\n",
       "        vertical-align: top;\n",
       "    }\n",
       "\n",
       "    .dataframe thead th {\n",
       "        text-align: right;\n",
       "    }\n",
       "</style>\n",
       "<table border=\"1\" class=\"dataframe\">\n",
       "  <thead>\n",
       "    <tr style=\"text-align: right;\">\n",
       "      <th></th>\n",
       "      <th>MVO</th>\n",
       "      <th>Decision Tree</th>\n",
       "    </tr>\n",
       "  </thead>\n",
       "  <tbody>\n",
       "    <tr>\n",
       "      <th>Total return</th>\n",
       "      <td>44.57</td>\n",
       "      <td>68.65</td>\n",
       "    </tr>\n",
       "    <tr>\n",
       "      <th>Annualized return</th>\n",
       "      <td>5.85</td>\n",
       "      <td>8.39</td>\n",
       "    </tr>\n",
       "    <tr>\n",
       "      <th>Annualized volatility</th>\n",
       "      <td>5.49</td>\n",
       "      <td>9.96</td>\n",
       "    </tr>\n",
       "    <tr>\n",
       "      <th>Sharpe ratio</th>\n",
       "      <td>0.70</td>\n",
       "      <td>0.64</td>\n",
       "    </tr>\n",
       "  </tbody>\n",
       "</table>\n",
       "</div>"
      ],
      "text/plain": [
       "                         MVO  Decision Tree\n",
       "Total return           44.57          68.65\n",
       "Annualized return       5.85           8.39\n",
       "Annualized volatility   5.49           9.96\n",
       "Sharpe ratio            0.70           0.64"
      ]
     },
     "execution_count": 79,
     "metadata": {},
     "output_type": "execute_result"
    }
   ],
   "source": [
    "results"
   ]
  },
  {
   "cell_type": "markdown",
   "metadata": {},
   "source": [
    "##### Hyperparameter tuning"
   ]
  },
  {
   "cell_type": "markdown",
   "metadata": {},
   "source": [
    "- Hyperparameter tuning allows to test different combinations of model parameters that reduce model complexity.\n",
    "\n",
    "\n",
    "- Two common parameters of decision trees are the depth of the tree and the number of features considered at each  split. \n",
    "\n",
    "\n",
    "- As for the untuned decision tree, the model will use an initial four-year window (2011-2014) for training that will be progressively extended by one month. For each training window, a 5-fold cross validation is used to determine which hyperparameters best predict optimal Sharpe ratio weights. After training, the model and hyperparameters that minimize mean absolute error are set to predict the Sharpe ratio weights for the following month.   "
   ]
  },
  {
   "cell_type": "code",
   "execution_count": 28,
   "metadata": {},
   "outputs": [],
   "source": [
    "dt = DecisionTreeRegressor(random_state=1)\n",
    "grid_dt = {'max_depth': range(2,10), 'max_features': range(2,10)}\n",
    "model_dt = GridSearchCV(estimator=dt, param_grid=grid_dt, scoring='neg_mean_absolute_error')\n",
    "hyper_predictions_dt = one_step_forward_predictor(model_dt,X,Y)"
   ]
  },
  {
   "cell_type": "code",
   "execution_count": 29,
   "metadata": {},
   "outputs": [
    {
     "data": {
      "text/plain": [
       "0.05254881915403527"
      ]
     },
     "execution_count": 29,
     "metadata": {},
     "output_type": "execute_result"
    }
   ],
   "source": [
    "mean_absolute_error(hyper_predictions_dt, Y.loc[hyper_predictions_dt.index])"
   ]
  },
  {
   "cell_type": "code",
   "execution_count": 30,
   "metadata": {},
   "outputs": [],
   "source": [
    "daily_returns_hyper_dt = get_daily_portfolio_returns(daily_returns,hyper_predictions_dt)"
   ]
  },
  {
   "cell_type": "code",
   "execution_count": 80,
   "metadata": {},
   "outputs": [
    {
     "data": {
      "text/html": [
       "<div>\n",
       "<style scoped>\n",
       "    .dataframe tbody tr th:only-of-type {\n",
       "        vertical-align: middle;\n",
       "    }\n",
       "\n",
       "    .dataframe tbody tr th {\n",
       "        vertical-align: top;\n",
       "    }\n",
       "\n",
       "    .dataframe thead th {\n",
       "        text-align: right;\n",
       "    }\n",
       "</style>\n",
       "<table border=\"1\" class=\"dataframe\">\n",
       "  <thead>\n",
       "    <tr style=\"text-align: right;\">\n",
       "      <th></th>\n",
       "      <th>MVO</th>\n",
       "      <th>Decision Tree</th>\n",
       "      <th>Decision Tree (Tuned)</th>\n",
       "    </tr>\n",
       "  </thead>\n",
       "  <tbody>\n",
       "    <tr>\n",
       "      <th>Total return</th>\n",
       "      <td>44.57</td>\n",
       "      <td>68.65</td>\n",
       "      <td>58.18</td>\n",
       "    </tr>\n",
       "    <tr>\n",
       "      <th>Annualized return</th>\n",
       "      <td>5.85</td>\n",
       "      <td>8.39</td>\n",
       "      <td>7.32</td>\n",
       "    </tr>\n",
       "    <tr>\n",
       "      <th>Annualized volatility</th>\n",
       "      <td>5.49</td>\n",
       "      <td>9.96</td>\n",
       "      <td>10.02</td>\n",
       "    </tr>\n",
       "    <tr>\n",
       "      <th>Sharpe ratio</th>\n",
       "      <td>0.70</td>\n",
       "      <td>0.64</td>\n",
       "      <td>0.53</td>\n",
       "    </tr>\n",
       "  </tbody>\n",
       "</table>\n",
       "</div>"
      ],
      "text/plain": [
       "                         MVO  Decision Tree  Decision Tree (Tuned)\n",
       "Total return           44.57          68.65                  58.18\n",
       "Annualized return       5.85           8.39                   7.32\n",
       "Annualized volatility   5.49           9.96                  10.02\n",
       "Sharpe ratio            0.70           0.64                   0.53"
      ]
     },
     "execution_count": 80,
     "metadata": {},
     "output_type": "execute_result"
    }
   ],
   "source": [
    "results_hyper_dt = performance_metrics(daily_returns_hyper_dt)\n",
    "results['Decision Tree (Tuned)'] = results_hyper_dt\n",
    "results"
   ]
  },
  {
   "cell_type": "markdown",
   "metadata": {
    "tags": []
   },
   "source": [
    "#### Random forest"
   ]
  },
  {
   "cell_type": "markdown",
   "metadata": {},
   "source": [
    "- A popular method to reduce decision tree overfitting while increasing performance is to use a random forest. \n",
    "\n",
    "\n",
    "- It allows to construct multiple independent decision trees in order to get uncorrelated predictions. The final prediction is given by the average of the decision tree predictions. \n",
    "\n",
    "\n",
    "- The random forest is built using the same expanding window for training to predict optimal Sharpe ratio weights for the following month. "
   ]
  },
  {
   "cell_type": "code",
   "execution_count": 33,
   "metadata": {},
   "outputs": [],
   "source": [
    "rf = RandomForestRegressor(bootstrap= False, random_state=1)# bootstrap = False as time series data is used and \n",
    "                                                                # hence should not be randomly subsampled.\n",
    "predictions_rf = one_step_forward_predictor(rf,X,Y)"
   ]
  },
  {
   "cell_type": "code",
   "execution_count": 34,
   "metadata": {},
   "outputs": [
    {
     "data": {
      "text/plain": [
       "0.05697711278087192"
      ]
     },
     "execution_count": 34,
     "metadata": {},
     "output_type": "execute_result"
    }
   ],
   "source": [
    "mean_absolute_error(predictions_rf, Y.loc[predictions_rf.index])"
   ]
  },
  {
   "cell_type": "code",
   "execution_count": 81,
   "metadata": {},
   "outputs": [],
   "source": [
    "daily_returns_rf = get_daily_portfolio_returns(daily_returns, predictions_rf)\n",
    "results_rf = performance_metrics(daily_returns_rf)\n",
    "results['Random Forest'] = results_rf"
   ]
  },
  {
   "cell_type": "code",
   "execution_count": 82,
   "metadata": {},
   "outputs": [
    {
     "data": {
      "text/html": [
       "<div>\n",
       "<style scoped>\n",
       "    .dataframe tbody tr th:only-of-type {\n",
       "        vertical-align: middle;\n",
       "    }\n",
       "\n",
       "    .dataframe tbody tr th {\n",
       "        vertical-align: top;\n",
       "    }\n",
       "\n",
       "    .dataframe thead th {\n",
       "        text-align: right;\n",
       "    }\n",
       "</style>\n",
       "<table border=\"1\" class=\"dataframe\">\n",
       "  <thead>\n",
       "    <tr style=\"text-align: right;\">\n",
       "      <th></th>\n",
       "      <th>MVO</th>\n",
       "      <th>Decision Tree</th>\n",
       "      <th>Decision Tree (Tuned)</th>\n",
       "      <th>Random Forest</th>\n",
       "    </tr>\n",
       "  </thead>\n",
       "  <tbody>\n",
       "    <tr>\n",
       "      <th>Total return</th>\n",
       "      <td>44.57</td>\n",
       "      <td>68.65</td>\n",
       "      <td>58.18</td>\n",
       "      <td>68.03</td>\n",
       "    </tr>\n",
       "    <tr>\n",
       "      <th>Annualized return</th>\n",
       "      <td>5.85</td>\n",
       "      <td>8.39</td>\n",
       "      <td>7.32</td>\n",
       "      <td>8.33</td>\n",
       "    </tr>\n",
       "    <tr>\n",
       "      <th>Annualized volatility</th>\n",
       "      <td>5.49</td>\n",
       "      <td>9.96</td>\n",
       "      <td>10.02</td>\n",
       "      <td>10.08</td>\n",
       "    </tr>\n",
       "    <tr>\n",
       "      <th>Sharpe ratio</th>\n",
       "      <td>0.70</td>\n",
       "      <td>0.64</td>\n",
       "      <td>0.53</td>\n",
       "      <td>0.63</td>\n",
       "    </tr>\n",
       "  </tbody>\n",
       "</table>\n",
       "</div>"
      ],
      "text/plain": [
       "                         MVO  Decision Tree  Decision Tree (Tuned)  \\\n",
       "Total return           44.57          68.65                  58.18   \n",
       "Annualized return       5.85           8.39                   7.32   \n",
       "Annualized volatility   5.49           9.96                  10.02   \n",
       "Sharpe ratio            0.70           0.64                   0.53   \n",
       "\n",
       "                       Random Forest  \n",
       "Total return                   68.03  \n",
       "Annualized return               8.33  \n",
       "Annualized volatility          10.08  \n",
       "Sharpe ratio                    0.63  "
      ]
     },
     "execution_count": 82,
     "metadata": {},
     "output_type": "execute_result"
    }
   ],
   "source": [
    "results"
   ]
  },
  {
   "cell_type": "markdown",
   "metadata": {},
   "source": [
    "##### Hyperparameter tuning"
   ]
  },
  {
   "cell_type": "markdown",
   "metadata": {},
   "source": [
    "- Popular hyperparameters for random forests are: the total number of trees, the maximum depth of each tree and the maximum number of features considered at each split point. "
   ]
  },
  {
   "cell_type": "code",
   "execution_count": null,
   "metadata": {},
   "outputs": [],
   "source": [
    "%%time\n",
    "rf = RandomForestRegressor(bootstrap= False, random_state=1)\n",
    "grid_rf = {'n_estimators': [50,100,150], 'max_depth': range(2,6), 'max_features': range(2,6)}\n",
    "model_rf = GridSearchCV(estimator=rf, param_grid=grid_rf, scoring='neg_mean_absolute_error')\n",
    "hyper_predictions_rf = hyperparameter_tuning(model_rf,X,Y)"
   ]
  },
  {
   "cell_type": "code",
   "execution_count": null,
   "metadata": {},
   "outputs": [],
   "source": [
    "hyper_predictions_rf = pd.read_csv('Hyper_RF_predictions.csv', index_col=0)"
   ]
  },
  {
   "cell_type": "code",
   "execution_count": null,
   "metadata": {},
   "outputs": [],
   "source": [
    "mean_absolute_error(hyper_predictions_rf, Y.loc[hyper_predictions_rf.index])"
   ]
  },
  {
   "cell_type": "code",
   "execution_count": 83,
   "metadata": {},
   "outputs": [],
   "source": [
    "daily_returns_hyper_rf = get_daily_portfolio_returns(daily_returns,hyper_predictions_rf)\n",
    "results_hyper_rf = performance_metrics(daily_returns_hyper_rf)"
   ]
  },
  {
   "cell_type": "code",
   "execution_count": 84,
   "metadata": {},
   "outputs": [
    {
     "data": {
      "text/html": [
       "<div>\n",
       "<style scoped>\n",
       "    .dataframe tbody tr th:only-of-type {\n",
       "        vertical-align: middle;\n",
       "    }\n",
       "\n",
       "    .dataframe tbody tr th {\n",
       "        vertical-align: top;\n",
       "    }\n",
       "\n",
       "    .dataframe thead th {\n",
       "        text-align: right;\n",
       "    }\n",
       "</style>\n",
       "<table border=\"1\" class=\"dataframe\">\n",
       "  <thead>\n",
       "    <tr style=\"text-align: right;\">\n",
       "      <th></th>\n",
       "      <th>MVO</th>\n",
       "      <th>Decision Tree</th>\n",
       "      <th>Decision Tree (Tuned)</th>\n",
       "      <th>Random Forest</th>\n",
       "      <th>Random Forest (Tuned)</th>\n",
       "    </tr>\n",
       "  </thead>\n",
       "  <tbody>\n",
       "    <tr>\n",
       "      <th>Total return</th>\n",
       "      <td>44.57</td>\n",
       "      <td>68.65</td>\n",
       "      <td>58.18</td>\n",
       "      <td>68.03</td>\n",
       "      <td>60.26</td>\n",
       "    </tr>\n",
       "    <tr>\n",
       "      <th>Annualized return</th>\n",
       "      <td>5.85</td>\n",
       "      <td>8.39</td>\n",
       "      <td>7.32</td>\n",
       "      <td>8.33</td>\n",
       "      <td>7.54</td>\n",
       "    </tr>\n",
       "    <tr>\n",
       "      <th>Annualized volatility</th>\n",
       "      <td>5.49</td>\n",
       "      <td>9.96</td>\n",
       "      <td>10.02</td>\n",
       "      <td>10.08</td>\n",
       "      <td>9.95</td>\n",
       "    </tr>\n",
       "    <tr>\n",
       "      <th>Sharpe ratio</th>\n",
       "      <td>0.70</td>\n",
       "      <td>0.64</td>\n",
       "      <td>0.53</td>\n",
       "      <td>0.63</td>\n",
       "      <td>0.56</td>\n",
       "    </tr>\n",
       "  </tbody>\n",
       "</table>\n",
       "</div>"
      ],
      "text/plain": [
       "                         MVO  Decision Tree  Decision Tree (Tuned)  \\\n",
       "Total return           44.57          68.65                  58.18   \n",
       "Annualized return       5.85           8.39                   7.32   \n",
       "Annualized volatility   5.49           9.96                  10.02   \n",
       "Sharpe ratio            0.70           0.64                   0.53   \n",
       "\n",
       "                       Random Forest  Random Forest (Tuned)  \n",
       "Total return                   68.03                  60.26  \n",
       "Annualized return               8.33                   7.54  \n",
       "Annualized volatility          10.08                   9.95  \n",
       "Sharpe ratio                    0.63                   0.56  "
      ]
     },
     "execution_count": 84,
     "metadata": {},
     "output_type": "execute_result"
    }
   ],
   "source": [
    "results['Random Forest (Tuned)'] = results_hyper_rf\n",
    "results"
   ]
  },
  {
   "cell_type": "markdown",
   "metadata": {
    "tags": []
   },
   "source": [
    "#### Gradient boosting"
   ]
  },
  {
   "cell_type": "markdown",
   "metadata": {},
   "source": [
    "- Gradient boosting is another popular ensemble method where each decision tree is constructed based on the model errors of the previous tree. \n",
    "\n",
    "\n",
    "- First, an untuned gradient boosted model is evaluated. \n",
    "\n",
    "\n",
    "- Then, the same approach as for the decision tree and random forest is applied for hyperparameter tuning."
   ]
  },
  {
   "cell_type": "code",
   "execution_count": 47,
   "metadata": {},
   "outputs": [],
   "source": [
    "gb = GradientBoostingRegressor(random_state=1)\n",
    "predictions_gb = one_step_forward_predictor(MultiOutputRegressor(gb),X,Y)"
   ]
  },
  {
   "cell_type": "code",
   "execution_count": 48,
   "metadata": {},
   "outputs": [
    {
     "data": {
      "text/plain": [
       "0.05462146930929971"
      ]
     },
     "execution_count": 48,
     "metadata": {},
     "output_type": "execute_result"
    }
   ],
   "source": [
    "mean_absolute_error(predictions_gb, Y.loc[predictions_gb.index])"
   ]
  },
  {
   "cell_type": "code",
   "execution_count": 85,
   "metadata": {},
   "outputs": [],
   "source": [
    "daily_returns_gb = get_daily_portfolio_returns(daily_returns,predictions_gb)\n",
    "results_gb = performance_metrics(daily_returns_gb)\n",
    "results['Gradient boosting'] = results_gb"
   ]
  },
  {
   "cell_type": "markdown",
   "metadata": {},
   "source": [
    "##### Hyperparameter tuning"
   ]
  },
  {
   "cell_type": "markdown",
   "metadata": {},
   "source": [
    "- Hyperparameters tested: the learning rate which is a shrinkage factor defining how much each tree contributes to the end result; the maximum depth of each tree and the maximum number of features considered at each split. "
   ]
  },
  {
   "cell_type": "code",
   "execution_count": 21,
   "metadata": {},
   "outputs": [
    {
     "name": "stdout",
     "output_type": "stream",
     "text": [
      "CPU times: user 2h 6min 6s, sys: 27.1 s, total: 2h 6min 33s\n",
      "Wall time: 2h 7min 2s\n"
     ]
    }
   ],
   "source": [
    "%%time\n",
    "gb = GradientBoostingRegressor(random_state=1)\n",
    "grid_gb = {'estimator__learning_rate': [0.1,0.01,0.05], \n",
    "           'estimator__max_depth': range(2,6), \n",
    "           'estimator__max_features': range(2,6)}\n",
    "model_gb = GridSearchCV(estimator=MultiOutputRegressor(gb), param_grid=grid_gb, scoring='neg_mean_absolute_error')\n",
    "hyper_predictions_gb = hyperparameter_tuning(model_gb,X,Y)"
   ]
  },
  {
   "cell_type": "code",
   "execution_count": 67,
   "metadata": {},
   "outputs": [
    {
     "data": {
      "text/plain": [
       "0.051707066224835174"
      ]
     },
     "execution_count": 67,
     "metadata": {},
     "output_type": "execute_result"
    }
   ],
   "source": [
    "mean_absolute_error(hyper_predictions_gb, Y.loc[hyper_predictions_gb.index])"
   ]
  },
  {
   "cell_type": "code",
   "execution_count": 86,
   "metadata": {},
   "outputs": [],
   "source": [
    "daily_returns_hyper_gb = get_daily_portfolio_returns(daily_returns,hyper_predictions_gb)\n",
    "results_hyper_gb = performance_metrics(daily_returns_hyper_gb)\n",
    "results['Gradient boosting (Tuned)'] = results_hyper_gb"
   ]
  },
  {
   "cell_type": "code",
   "execution_count": 87,
   "metadata": {},
   "outputs": [
    {
     "data": {
      "text/html": [
       "<div>\n",
       "<style scoped>\n",
       "    .dataframe tbody tr th:only-of-type {\n",
       "        vertical-align: middle;\n",
       "    }\n",
       "\n",
       "    .dataframe tbody tr th {\n",
       "        vertical-align: top;\n",
       "    }\n",
       "\n",
       "    .dataframe thead th {\n",
       "        text-align: right;\n",
       "    }\n",
       "</style>\n",
       "<table border=\"1\" class=\"dataframe\">\n",
       "  <thead>\n",
       "    <tr style=\"text-align: right;\">\n",
       "      <th></th>\n",
       "      <th>MVO</th>\n",
       "      <th>Decision Tree</th>\n",
       "      <th>Decision Tree (Tuned)</th>\n",
       "      <th>Random Forest</th>\n",
       "      <th>Random Forest (Tuned)</th>\n",
       "      <th>Gradient boosting</th>\n",
       "      <th>Gradient boosting (Tuned)</th>\n",
       "    </tr>\n",
       "  </thead>\n",
       "  <tbody>\n",
       "    <tr>\n",
       "      <th>Total return</th>\n",
       "      <td>44.57</td>\n",
       "      <td>68.65</td>\n",
       "      <td>58.18</td>\n",
       "      <td>68.03</td>\n",
       "      <td>60.26</td>\n",
       "      <td>59.00</td>\n",
       "      <td>59.67</td>\n",
       "    </tr>\n",
       "    <tr>\n",
       "      <th>Annualized return</th>\n",
       "      <td>5.85</td>\n",
       "      <td>8.39</td>\n",
       "      <td>7.32</td>\n",
       "      <td>8.33</td>\n",
       "      <td>7.54</td>\n",
       "      <td>7.41</td>\n",
       "      <td>7.48</td>\n",
       "    </tr>\n",
       "    <tr>\n",
       "      <th>Annualized volatility</th>\n",
       "      <td>5.49</td>\n",
       "      <td>9.96</td>\n",
       "      <td>10.02</td>\n",
       "      <td>10.08</td>\n",
       "      <td>9.95</td>\n",
       "      <td>11.22</td>\n",
       "      <td>10.18</td>\n",
       "    </tr>\n",
       "    <tr>\n",
       "      <th>Sharpe ratio</th>\n",
       "      <td>0.70</td>\n",
       "      <td>0.64</td>\n",
       "      <td>0.53</td>\n",
       "      <td>0.63</td>\n",
       "      <td>0.56</td>\n",
       "      <td>0.48</td>\n",
       "      <td>0.54</td>\n",
       "    </tr>\n",
       "  </tbody>\n",
       "</table>\n",
       "</div>"
      ],
      "text/plain": [
       "                         MVO  Decision Tree  Decision Tree (Tuned)  \\\n",
       "Total return           44.57          68.65                  58.18   \n",
       "Annualized return       5.85           8.39                   7.32   \n",
       "Annualized volatility   5.49           9.96                  10.02   \n",
       "Sharpe ratio            0.70           0.64                   0.53   \n",
       "\n",
       "                       Random Forest  Random Forest (Tuned)  \\\n",
       "Total return                   68.03                  60.26   \n",
       "Annualized return               8.33                   7.54   \n",
       "Annualized volatility          10.08                   9.95   \n",
       "Sharpe ratio                    0.63                   0.56   \n",
       "\n",
       "                       Gradient boosting  Gradient boosting (Tuned)  \n",
       "Total return                       59.00                      59.67  \n",
       "Annualized return                   7.41                       7.48  \n",
       "Annualized volatility              11.22                      10.18  \n",
       "Sharpe ratio                        0.48                       0.54  "
      ]
     },
     "execution_count": 87,
     "metadata": {},
     "output_type": "execute_result"
    }
   ],
   "source": [
    "results"
   ]
  },
  {
   "cell_type": "markdown",
   "metadata": {
    "tags": []
   },
   "source": [
    "### Optimization comparison"
   ]
  },
  {
   "cell_type": "markdown",
   "metadata": {},
   "source": [
    "#### Performance and risk"
   ]
  },
  {
   "cell_type": "markdown",
   "metadata": {},
   "source": [
    "Now we want to compare the performances of the different optimization techniques over time. This is important as it shows which optimizer did best under different market conditions or which portfolio was the most volatile and risky. Depending on the risk tolerance of the client, different optimization options could then be proposed."
   ]
  },
  {
   "cell_type": "code",
   "execution_count": 150,
   "metadata": {},
   "outputs": [
    {
     "data": {
      "text/html": [
       "<div>\n",
       "<style scoped>\n",
       "    .dataframe tbody tr th:only-of-type {\n",
       "        vertical-align: middle;\n",
       "    }\n",
       "\n",
       "    .dataframe tbody tr th {\n",
       "        vertical-align: top;\n",
       "    }\n",
       "\n",
       "    .dataframe thead th {\n",
       "        text-align: right;\n",
       "    }\n",
       "</style>\n",
       "<table border=\"1\" class=\"dataframe\">\n",
       "  <thead>\n",
       "    <tr style=\"text-align: right;\">\n",
       "      <th></th>\n",
       "      <th>MVO</th>\n",
       "      <th>Decision Tree</th>\n",
       "      <th>Decision Tree (Tuned)</th>\n",
       "      <th>Random Forest</th>\n",
       "      <th>Random Forest (Tuned)</th>\n",
       "      <th>Gradient boosting</th>\n",
       "      <th>Gradient boosting (Tuned)</th>\n",
       "    </tr>\n",
       "  </thead>\n",
       "  <tbody>\n",
       "    <tr>\n",
       "      <th>2015-01-05</th>\n",
       "      <td>-0.001655</td>\n",
       "      <td>-0.009080</td>\n",
       "      <td>-0.010040</td>\n",
       "      <td>-0.009620</td>\n",
       "      <td>-0.009657</td>\n",
       "      <td>-0.009877</td>\n",
       "      <td>-0.009647</td>\n",
       "    </tr>\n",
       "    <tr>\n",
       "      <th>2015-01-06</th>\n",
       "      <td>0.000067</td>\n",
       "      <td>-0.005674</td>\n",
       "      <td>-0.005676</td>\n",
       "      <td>-0.005756</td>\n",
       "      <td>-0.005326</td>\n",
       "      <td>-0.005419</td>\n",
       "      <td>-0.005353</td>\n",
       "    </tr>\n",
       "    <tr>\n",
       "      <th>2015-01-07</th>\n",
       "      <td>0.002194</td>\n",
       "      <td>0.004746</td>\n",
       "      <td>0.006955</td>\n",
       "      <td>0.005487</td>\n",
       "      <td>0.006941</td>\n",
       "      <td>0.007234</td>\n",
       "      <td>0.006729</td>\n",
       "    </tr>\n",
       "    <tr>\n",
       "      <th>2015-01-08</th>\n",
       "      <td>0.002262</td>\n",
       "      <td>0.006844</td>\n",
       "      <td>0.008214</td>\n",
       "      <td>0.007453</td>\n",
       "      <td>0.007948</td>\n",
       "      <td>0.007930</td>\n",
       "      <td>0.007845</td>\n",
       "    </tr>\n",
       "    <tr>\n",
       "      <th>2015-01-09</th>\n",
       "      <td>0.000312</td>\n",
       "      <td>-0.002886</td>\n",
       "      <td>-0.003235</td>\n",
       "      <td>-0.003017</td>\n",
       "      <td>-0.003008</td>\n",
       "      <td>-0.002856</td>\n",
       "      <td>-0.002977</td>\n",
       "    </tr>\n",
       "  </tbody>\n",
       "</table>\n",
       "</div>"
      ],
      "text/plain": [
       "                 MVO  Decision Tree  Decision Tree (Tuned)  Random Forest  \\\n",
       "2015-01-05 -0.001655      -0.009080              -0.010040      -0.009620   \n",
       "2015-01-06  0.000067      -0.005674              -0.005676      -0.005756   \n",
       "2015-01-07  0.002194       0.004746               0.006955       0.005487   \n",
       "2015-01-08  0.002262       0.006844               0.008214       0.007453   \n",
       "2015-01-09  0.000312      -0.002886              -0.003235      -0.003017   \n",
       "\n",
       "            Random Forest (Tuned)  Gradient boosting  \\\n",
       "2015-01-05              -0.009657          -0.009877   \n",
       "2015-01-06              -0.005326          -0.005419   \n",
       "2015-01-07               0.006941           0.007234   \n",
       "2015-01-08               0.007948           0.007930   \n",
       "2015-01-09              -0.003008          -0.002856   \n",
       "\n",
       "            Gradient boosting (Tuned)  \n",
       "2015-01-05                  -0.009647  \n",
       "2015-01-06                  -0.005353  \n",
       "2015-01-07                   0.006729  \n",
       "2015-01-08                   0.007845  \n",
       "2015-01-09                  -0.002977  "
      ]
     },
     "execution_count": 150,
     "metadata": {},
     "output_type": "execute_result"
    }
   ],
   "source": [
    "# Merge daily returns of optimizers in one dataframe\n",
    "optimizers = results.columns\n",
    "optimizers_daily_returns = pd.concat([daily_returns_MVO,daily_returns_dt,daily_returns_hyper_dt,daily_returns_rf\n",
    "         ,daily_returns_hyper_rf,daily_returns_gb,daily_returns_hyper_gb],axis=1)\n",
    "optimizers_daily_returns.columns = optimizers \n",
    "optimizers_daily_returns.head()"
   ]
  },
  {
   "cell_type": "code",
   "execution_count": 110,
   "metadata": {},
   "outputs": [
    {
     "data": {
      "image/png": "[encoded data removed]",
      "text/plain": [
       "<Figure size 1500x1200 with 1 Axes>"
      ]
     },
     "metadata": {},
     "output_type": "display_data"
    }
   ],
   "source": [
    "# Plot cumulative returns of different optimizers \n",
    "colors = ['black','blue','darkblue','red','darkorange','lime','green']\n",
    "(1+optimizers_daily_returns).cumprod().mul(100).plot(figsize=(15,12),\n",
    "                                                    color=colors)\n",
    "plt.show()"
   ]
  },
  {
   "cell_type": "code",
   "execution_count": 97,
   "metadata": {},
   "outputs": [
    {
     "data": {
      "text/html": [
       "<div>\n",
       "<style scoped>\n",
       "    .dataframe tbody tr th:only-of-type {\n",
       "        vertical-align: middle;\n",
       "    }\n",
       "\n",
       "    .dataframe tbody tr th {\n",
       "        vertical-align: top;\n",
       "    }\n",
       "\n",
       "    .dataframe thead th {\n",
       "        text-align: right;\n",
       "    }\n",
       "</style>\n",
       "<table border=\"1\" class=\"dataframe\">\n",
       "  <thead>\n",
       "    <tr style=\"text-align: right;\">\n",
       "      <th></th>\n",
       "      <th>MVO</th>\n",
       "      <th>Decision Tree</th>\n",
       "      <th>Decision Tree (Tuned)</th>\n",
       "      <th>Random Forest</th>\n",
       "      <th>Random Forest (Tuned)</th>\n",
       "      <th>Gradient boosting</th>\n",
       "      <th>Gradient boosting (Tuned)</th>\n",
       "    </tr>\n",
       "  </thead>\n",
       "  <tbody>\n",
       "    <tr>\n",
       "      <th>Total return</th>\n",
       "      <td>44.57</td>\n",
       "      <td>68.65</td>\n",
       "      <td>58.18</td>\n",
       "      <td>68.03</td>\n",
       "      <td>60.26</td>\n",
       "      <td>59.00</td>\n",
       "      <td>59.67</td>\n",
       "    </tr>\n",
       "    <tr>\n",
       "      <th>Annualized return</th>\n",
       "      <td>5.85</td>\n",
       "      <td>8.39</td>\n",
       "      <td>7.32</td>\n",
       "      <td>8.33</td>\n",
       "      <td>7.54</td>\n",
       "      <td>7.41</td>\n",
       "      <td>7.48</td>\n",
       "    </tr>\n",
       "    <tr>\n",
       "      <th>Annualized volatility</th>\n",
       "      <td>5.49</td>\n",
       "      <td>9.96</td>\n",
       "      <td>10.02</td>\n",
       "      <td>10.08</td>\n",
       "      <td>9.95</td>\n",
       "      <td>11.22</td>\n",
       "      <td>10.18</td>\n",
       "    </tr>\n",
       "    <tr>\n",
       "      <th>Sharpe ratio</th>\n",
       "      <td>0.70</td>\n",
       "      <td>0.64</td>\n",
       "      <td>0.53</td>\n",
       "      <td>0.63</td>\n",
       "      <td>0.56</td>\n",
       "      <td>0.48</td>\n",
       "      <td>0.54</td>\n",
       "    </tr>\n",
       "  </tbody>\n",
       "</table>\n",
       "</div>"
      ],
      "text/plain": [
       "                         MVO  Decision Tree  Decision Tree (Tuned)  \\\n",
       "Total return           44.57          68.65                  58.18   \n",
       "Annualized return       5.85           8.39                   7.32   \n",
       "Annualized volatility   5.49           9.96                  10.02   \n",
       "Sharpe ratio            0.70           0.64                   0.53   \n",
       "\n",
       "                       Random Forest  Random Forest (Tuned)  \\\n",
       "Total return                   68.03                  60.26   \n",
       "Annualized return               8.33                   7.54   \n",
       "Annualized volatility          10.08                   9.95   \n",
       "Sharpe ratio                    0.63                   0.56   \n",
       "\n",
       "                       Gradient boosting  Gradient boosting (Tuned)  \n",
       "Total return                       59.00                      59.67  \n",
       "Annualized return                   7.41                       7.48  \n",
       "Annualized volatility              11.22                      10.18  \n",
       "Sharpe ratio                        0.48                       0.54  "
      ]
     },
     "execution_count": 97,
     "metadata": {},
     "output_type": "execute_result"
    }
   ],
   "source": [
    "results"
   ]
  },
  {
   "cell_type": "markdown",
   "metadata": {},
   "source": [
    "Overall, we can see that the one-time Markowitz optimization did impressively well in maximizing the return per unit of risk (Sharpe ratio) over the period from 2015 to 2021. Amongst the machine learning methods, the decision tree and random forest optimizers show the best sharpe ratio and total return. They also provide a higher total return than the MVO optimizer, however at the expense of higher risk/volatility. Hence, a risk-averse client would prefer the Markowitz portfolio, while a risk-seeking investor might prefer tree-based optimizers. "
   ]
  },
  {
   "cell_type": "markdown",
   "metadata": {},
   "source": [
    "#### Asset allocation"
   ]
  },
  {
   "cell_type": "code",
   "execution_count": 171,
   "metadata": {},
   "outputs": [
    {
     "data": {
      "text/html": [
       "<div>\n",
       "<style scoped>\n",
       "    .dataframe tbody tr th:only-of-type {\n",
       "        vertical-align: middle;\n",
       "    }\n",
       "\n",
       "    .dataframe tbody tr th {\n",
       "        vertical-align: top;\n",
       "    }\n",
       "\n",
       "    .dataframe thead th {\n",
       "        text-align: right;\n",
       "    }\n",
       "</style>\n",
       "<table border=\"1\" class=\"dataframe\">\n",
       "  <thead>\n",
       "    <tr style=\"text-align: right;\">\n",
       "      <th></th>\n",
       "      <th>MVO</th>\n",
       "      <th>Decision Tree</th>\n",
       "      <th>Decision Tree (Tuned)</th>\n",
       "      <th>Random Forest</th>\n",
       "      <th>Random Forest (Tuned)</th>\n",
       "      <th>Gradient boosting</th>\n",
       "      <th>Gradient boosting (Tuned)</th>\n",
       "    </tr>\n",
       "  </thead>\n",
       "  <tbody>\n",
       "    <tr>\n",
       "      <th>VTI</th>\n",
       "      <td>0.238264</td>\n",
       "      <td>0.110559</td>\n",
       "      <td>0.105308</td>\n",
       "      <td>0.116099</td>\n",
       "      <td>0.104644</td>\n",
       "      <td>0.113560</td>\n",
       "      <td>0.106158</td>\n",
       "    </tr>\n",
       "    <tr>\n",
       "      <th>IUSV</th>\n",
       "      <td>0.000899</td>\n",
       "      <td>0.113732</td>\n",
       "      <td>0.107543</td>\n",
       "      <td>0.111792</td>\n",
       "      <td>0.106267</td>\n",
       "      <td>0.112210</td>\n",
       "      <td>0.107723</td>\n",
       "    </tr>\n",
       "    <tr>\n",
       "      <th>VBR</th>\n",
       "      <td>0.000000</td>\n",
       "      <td>0.088411</td>\n",
       "      <td>0.101945</td>\n",
       "      <td>0.094517</td>\n",
       "      <td>0.100637</td>\n",
       "      <td>0.097785</td>\n",
       "      <td>0.100202</td>\n",
       "    </tr>\n",
       "    <tr>\n",
       "      <th>VEA</th>\n",
       "      <td>0.000000</td>\n",
       "      <td>0.085190</td>\n",
       "      <td>0.096841</td>\n",
       "      <td>0.087563</td>\n",
       "      <td>0.098461</td>\n",
       "      <td>0.098611</td>\n",
       "      <td>0.098872</td>\n",
       "    </tr>\n",
       "    <tr>\n",
       "      <th>VWO</th>\n",
       "      <td>0.000000</td>\n",
       "      <td>0.112611</td>\n",
       "      <td>0.097305</td>\n",
       "      <td>0.105600</td>\n",
       "      <td>0.097254</td>\n",
       "      <td>0.095191</td>\n",
       "      <td>0.096190</td>\n",
       "    </tr>\n",
       "    <tr>\n",
       "      <th>SHV</th>\n",
       "      <td>0.000000</td>\n",
       "      <td>0.105559</td>\n",
       "      <td>0.099302</td>\n",
       "      <td>0.101387</td>\n",
       "      <td>0.100261</td>\n",
       "      <td>0.098397</td>\n",
       "      <td>0.097948</td>\n",
       "    </tr>\n",
       "    <tr>\n",
       "      <th>STIP</th>\n",
       "      <td>0.000000</td>\n",
       "      <td>0.098472</td>\n",
       "      <td>0.105558</td>\n",
       "      <td>0.093326</td>\n",
       "      <td>0.104322</td>\n",
       "      <td>0.103374</td>\n",
       "      <td>0.102882</td>\n",
       "    </tr>\n",
       "    <tr>\n",
       "      <th>AGG</th>\n",
       "      <td>0.749658</td>\n",
       "      <td>0.105697</td>\n",
       "      <td>0.102997</td>\n",
       "      <td>0.106438</td>\n",
       "      <td>0.103141</td>\n",
       "      <td>0.110193</td>\n",
       "      <td>0.104682</td>\n",
       "    </tr>\n",
       "    <tr>\n",
       "      <th>IBND</th>\n",
       "      <td>0.000000</td>\n",
       "      <td>0.089097</td>\n",
       "      <td>0.088492</td>\n",
       "      <td>0.093136</td>\n",
       "      <td>0.089788</td>\n",
       "      <td>0.091674</td>\n",
       "      <td>0.090320</td>\n",
       "    </tr>\n",
       "    <tr>\n",
       "      <th>EMB</th>\n",
       "      <td>0.011178</td>\n",
       "      <td>0.090672</td>\n",
       "      <td>0.094709</td>\n",
       "      <td>0.090141</td>\n",
       "      <td>0.095226</td>\n",
       "      <td>0.097615</td>\n",
       "      <td>0.095653</td>\n",
       "    </tr>\n",
       "  </tbody>\n",
       "</table>\n",
       "</div>"
      ],
      "text/plain": [
       "           MVO  Decision Tree  Decision Tree (Tuned)  Random Forest  \\\n",
       "VTI   0.238264       0.110559               0.105308       0.116099   \n",
       "IUSV  0.000899       0.113732               0.107543       0.111792   \n",
       "VBR   0.000000       0.088411               0.101945       0.094517   \n",
       "VEA   0.000000       0.085190               0.096841       0.087563   \n",
       "VWO   0.000000       0.112611               0.097305       0.105600   \n",
       "SHV   0.000000       0.105559               0.099302       0.101387   \n",
       "STIP  0.000000       0.098472               0.105558       0.093326   \n",
       "AGG   0.749658       0.105697               0.102997       0.106438   \n",
       "IBND  0.000000       0.089097               0.088492       0.093136   \n",
       "EMB   0.011178       0.090672               0.094709       0.090141   \n",
       "\n",
       "      Random Forest (Tuned)  Gradient boosting  Gradient boosting (Tuned)  \n",
       "VTI                0.104644           0.113560                   0.106158  \n",
       "IUSV               0.106267           0.112210                   0.107723  \n",
       "VBR                0.100637           0.097785                   0.100202  \n",
       "VEA                0.098461           0.098611                   0.098872  \n",
       "VWO                0.097254           0.095191                   0.096190  \n",
       "SHV                0.100261           0.098397                   0.097948  \n",
       "STIP               0.104322           0.103374                   0.102882  \n",
       "AGG                0.103141           0.110193                   0.104682  \n",
       "IBND               0.089788           0.091674                   0.090320  \n",
       "EMB                0.095226           0.097615                   0.095653  "
      ]
     },
     "execution_count": 171,
     "metadata": {},
     "output_type": "execute_result"
    }
   ],
   "source": [
    "# Get average ETF position for each optimizer\n",
    "average_allocation = pd.concat([MVO_monthly_weights.mean(),predictions_dt.mean(),hyper_predictions_dt.mean(),predictions_rf.mean(),predictions_hyper_rf.mean(),\n",
    "           predictions_gb.mean(),predictions_hyper_gb.mean()],axis=1)\n",
    "average_allocation.columns = results.columns\n",
    "average_allocation"
   ]
  },
  {
   "cell_type": "code",
   "execution_count": 181,
   "metadata": {},
   "outputs": [
    {
     "data": {
      "image/png": "[encoded data removed]",
      "text/plain": [
       "<Figure size 1200x800 with 1 Axes>"
      ]
     },
     "metadata": {},
     "output_type": "display_data"
    }
   ],
   "source": [
    "# Plot average stock and bond allocation for each ETF\n",
    "w = 0.4 \n",
    "bar1 = np.arange(len(average_allocation.columns))\n",
    "bar2 = [i+w for i in bar1]\n",
    "\n",
    "plt.figure(figsize=(12,8))\n",
    "plt.bar(bar1, average_allocation.iloc[0:5].sum().mul(100), w, label='Stock %', color='firebrick')\n",
    "plt.bar(bar2, average_allocation.iloc[5:].sum().mul(100), w, label='Bond %',color='lightgrey')\n",
    "plt.xticks(bar1+w/2,average_allocation.columns,rotation=90)\n",
    "plt.xlabel('ETF')\n",
    "plt.ylabel('Asset allocation')\n",
    "plt.title('Difference in average ETF asset allocation')\n",
    "plt.legend()\n",
    "plt.show()"
   ]
  },
  {
   "cell_type": "markdown",
   "metadata": {
    "tags": []
   },
   "source": [
    "### Zoom into Covid-19"
   ]
  },
  {
   "cell_type": "code",
   "execution_count": 117,
   "metadata": {},
   "outputs": [
    {
     "data": {
      "image/png": "[encoded data removed]",
      "text/plain": [
       "<Figure size 1500x1200 with 1 Axes>"
      ]
     },
     "metadata": {},
     "output_type": "display_data"
    }
   ],
   "source": [
    "# Plot performance evolution since Covid-19\n",
    "Covid_cumulative_returns = (1+optimizers_daily_returns.loc['2020-01':]).cumprod().mul(100)\n",
    "Covid_cumulative_returns.plot(figsize=(15,12),color=colors)\n",
    "plt.title('Performance of Optimizers since Covid-19')\n",
    "plt.ylabel('Index')\n",
    "plt.xlabel('Month')\n",
    "plt.show()"
   ]
  },
  {
   "cell_type": "code",
   "execution_count": 162,
   "metadata": {},
   "outputs": [],
   "source": [
    "# Performance and risk during 2020 \n",
    "performance_risk_covid = pd.DataFrame(index=results.index,columns=results.columns)\n",
    "for optimizer in results.columns:\n",
    "    performance_risk_covid[optimizer] = performance_metrics(optimizers_daily_returns.loc['2020':,optimizer])"
   ]
  },
  {
   "cell_type": "code",
   "execution_count": 163,
   "metadata": {},
   "outputs": [
    {
     "data": {
      "text/html": [
       "<div>\n",
       "<style scoped>\n",
       "    .dataframe tbody tr th:only-of-type {\n",
       "        vertical-align: middle;\n",
       "    }\n",
       "\n",
       "    .dataframe tbody tr th {\n",
       "        vertical-align: top;\n",
       "    }\n",
       "\n",
       "    .dataframe thead th {\n",
       "        text-align: right;\n",
       "    }\n",
       "</style>\n",
       "<table border=\"1\" class=\"dataframe\">\n",
       "  <thead>\n",
       "    <tr style=\"text-align: right;\">\n",
       "      <th></th>\n",
       "      <th>MVO</th>\n",
       "      <th>Decision Tree</th>\n",
       "      <th>Decision Tree (Tuned)</th>\n",
       "      <th>Random Forest</th>\n",
       "      <th>Random Forest (Tuned)</th>\n",
       "      <th>Gradient boosting</th>\n",
       "      <th>Gradient boosting (Tuned)</th>\n",
       "    </tr>\n",
       "  </thead>\n",
       "  <tbody>\n",
       "    <tr>\n",
       "      <th>Total return</th>\n",
       "      <td>15.30</td>\n",
       "      <td>25.36</td>\n",
       "      <td>17.03</td>\n",
       "      <td>23.64</td>\n",
       "      <td>19.29</td>\n",
       "      <td>19.21</td>\n",
       "      <td>19.46</td>\n",
       "    </tr>\n",
       "    <tr>\n",
       "      <th>Annualized return</th>\n",
       "      <td>10.00</td>\n",
       "      <td>16.34</td>\n",
       "      <td>11.11</td>\n",
       "      <td>15.27</td>\n",
       "      <td>12.54</td>\n",
       "      <td>12.49</td>\n",
       "      <td>12.65</td>\n",
       "    </tr>\n",
       "    <tr>\n",
       "      <th>Annualized volatility</th>\n",
       "      <td>9.15</td>\n",
       "      <td>15.75</td>\n",
       "      <td>16.27</td>\n",
       "      <td>16.22</td>\n",
       "      <td>16.07</td>\n",
       "      <td>19.10</td>\n",
       "      <td>16.61</td>\n",
       "    </tr>\n",
       "    <tr>\n",
       "      <th>Sharpe ratio</th>\n",
       "      <td>0.87</td>\n",
       "      <td>0.91</td>\n",
       "      <td>0.56</td>\n",
       "      <td>0.82</td>\n",
       "      <td>0.66</td>\n",
       "      <td>0.55</td>\n",
       "      <td>0.64</td>\n",
       "    </tr>\n",
       "  </tbody>\n",
       "</table>\n",
       "</div>"
      ],
      "text/plain": [
       "                         MVO  Decision Tree  Decision Tree (Tuned)  \\\n",
       "Total return           15.30          25.36                  17.03   \n",
       "Annualized return      10.00          16.34                  11.11   \n",
       "Annualized volatility   9.15          15.75                  16.27   \n",
       "Sharpe ratio            0.87           0.91                   0.56   \n",
       "\n",
       "                       Random Forest  Random Forest (Tuned)  \\\n",
       "Total return                   23.64                  19.29   \n",
       "Annualized return              15.27                  12.54   \n",
       "Annualized volatility          16.22                  16.07   \n",
       "Sharpe ratio                    0.82                   0.66   \n",
       "\n",
       "                       Gradient boosting  Gradient boosting (Tuned)  \n",
       "Total return                       19.21                      19.46  \n",
       "Annualized return                  12.49                      12.65  \n",
       "Annualized volatility              19.10                      16.61  \n",
       "Sharpe ratio                        0.55                       0.64  "
      ]
     },
     "execution_count": 163,
     "metadata": {},
     "output_type": "execute_result"
    }
   ],
   "source": [
    "performance_risk_covid"
   ]
  },
  {
   "cell_type": "code",
   "execution_count": 131,
   "metadata": {},
   "outputs": [
    {
     "data": {
      "text/plain": [
       "MVO                         -12.03\n",
       "Decision Tree               -20.73\n",
       "Decision Tree (tuned)       -22.63\n",
       "Random Forest               -22.21\n",
       "Random Forest (tuned)       -22.08\n",
       "Gradient boosting           -26.08\n",
       "Gradient boosting (tuned)   -22.83\n",
       "dtype: float64"
      ]
     },
     "execution_count": 131,
     "metadata": {},
     "output_type": "execute_result"
    }
   ],
   "source": [
    "# Get maximum drawdowns over March 2020\n",
    "zoom = Covid_cumulative_returns.loc['2020-02':'2020-04']\n",
    "max_drawdown = round(((zoom.min()-zoom.max())/zoom.max()).mul(100),2)\n",
    "max_drawdown"
   ]
  },
  {
   "cell_type": "code",
   "execution_count": 189,
   "metadata": {},
   "outputs": [
    {
     "data": {
      "text/html": [
       "<div>\n",
       "<style scoped>\n",
       "    .dataframe tbody tr th:only-of-type {\n",
       "        vertical-align: middle;\n",
       "    }\n",
       "\n",
       "    .dataframe tbody tr th {\n",
       "        vertical-align: top;\n",
       "    }\n",
       "\n",
       "    .dataframe thead th {\n",
       "        text-align: right;\n",
       "    }\n",
       "</style>\n",
       "<table border=\"1\" class=\"dataframe\">\n",
       "  <thead>\n",
       "    <tr style=\"text-align: right;\">\n",
       "      <th></th>\n",
       "      <th>MVO</th>\n",
       "      <th>Decision Tree</th>\n",
       "      <th>Decision Tree (Tuned)</th>\n",
       "      <th>Random Forest</th>\n",
       "      <th>Random Forest (Tuned)</th>\n",
       "      <th>Gradient boosting</th>\n",
       "      <th>Gradient boosting (Tuned)</th>\n",
       "    </tr>\n",
       "  </thead>\n",
       "  <tbody>\n",
       "    <tr>\n",
       "      <th>VTI</th>\n",
       "      <td>0.227162</td>\n",
       "      <td>0.129909</td>\n",
       "      <td>0.105308</td>\n",
       "      <td>0.133490</td>\n",
       "      <td>0.105371</td>\n",
       "      <td>0.113774</td>\n",
       "      <td>0.106892</td>\n",
       "    </tr>\n",
       "    <tr>\n",
       "      <th>IUSV</th>\n",
       "      <td>0.000000</td>\n",
       "      <td>0.077860</td>\n",
       "      <td>0.107543</td>\n",
       "      <td>0.081593</td>\n",
       "      <td>0.107563</td>\n",
       "      <td>0.126618</td>\n",
       "      <td>0.115478</td>\n",
       "    </tr>\n",
       "    <tr>\n",
       "      <th>VBR</th>\n",
       "      <td>0.000000</td>\n",
       "      <td>0.072276</td>\n",
       "      <td>0.101945</td>\n",
       "      <td>0.075411</td>\n",
       "      <td>0.095672</td>\n",
       "      <td>0.094499</td>\n",
       "      <td>0.097178</td>\n",
       "    </tr>\n",
       "    <tr>\n",
       "      <th>VEA</th>\n",
       "      <td>0.000000</td>\n",
       "      <td>0.114921</td>\n",
       "      <td>0.096841</td>\n",
       "      <td>0.106500</td>\n",
       "      <td>0.100526</td>\n",
       "      <td>0.103148</td>\n",
       "      <td>0.101057</td>\n",
       "    </tr>\n",
       "    <tr>\n",
       "      <th>VWO</th>\n",
       "      <td>0.000000</td>\n",
       "      <td>0.095004</td>\n",
       "      <td>0.097305</td>\n",
       "      <td>0.098238</td>\n",
       "      <td>0.091181</td>\n",
       "      <td>0.101080</td>\n",
       "      <td>0.091371</td>\n",
       "    </tr>\n",
       "    <tr>\n",
       "      <th>SHV</th>\n",
       "      <td>0.000000</td>\n",
       "      <td>0.130805</td>\n",
       "      <td>0.099302</td>\n",
       "      <td>0.112286</td>\n",
       "      <td>0.099978</td>\n",
       "      <td>0.098409</td>\n",
       "      <td>0.094249</td>\n",
       "    </tr>\n",
       "    <tr>\n",
       "      <th>STIP</th>\n",
       "      <td>0.000000</td>\n",
       "      <td>0.091241</td>\n",
       "      <td>0.105558</td>\n",
       "      <td>0.096675</td>\n",
       "      <td>0.102435</td>\n",
       "      <td>0.101152</td>\n",
       "      <td>0.098725</td>\n",
       "    </tr>\n",
       "    <tr>\n",
       "      <th>AGG</th>\n",
       "      <td>0.772838</td>\n",
       "      <td>0.101323</td>\n",
       "      <td>0.102997</td>\n",
       "      <td>0.097509</td>\n",
       "      <td>0.105008</td>\n",
       "      <td>0.105995</td>\n",
       "      <td>0.104908</td>\n",
       "    </tr>\n",
       "    <tr>\n",
       "      <th>IBND</th>\n",
       "      <td>0.000000</td>\n",
       "      <td>0.094522</td>\n",
       "      <td>0.088492</td>\n",
       "      <td>0.097051</td>\n",
       "      <td>0.094594</td>\n",
       "      <td>0.081068</td>\n",
       "      <td>0.092468</td>\n",
       "    </tr>\n",
       "    <tr>\n",
       "      <th>EMB</th>\n",
       "      <td>0.000000</td>\n",
       "      <td>0.092139</td>\n",
       "      <td>0.094709</td>\n",
       "      <td>0.101247</td>\n",
       "      <td>0.097673</td>\n",
       "      <td>0.099664</td>\n",
       "      <td>0.097574</td>\n",
       "    </tr>\n",
       "  </tbody>\n",
       "</table>\n",
       "</div>"
      ],
      "text/plain": [
       "           MVO  Decision Tree  Decision Tree (Tuned)  Random Forest  \\\n",
       "VTI   0.227162       0.129909               0.105308       0.133490   \n",
       "IUSV  0.000000       0.077860               0.107543       0.081593   \n",
       "VBR   0.000000       0.072276               0.101945       0.075411   \n",
       "VEA   0.000000       0.114921               0.096841       0.106500   \n",
       "VWO   0.000000       0.095004               0.097305       0.098238   \n",
       "SHV   0.000000       0.130805               0.099302       0.112286   \n",
       "STIP  0.000000       0.091241               0.105558       0.096675   \n",
       "AGG   0.772838       0.101323               0.102997       0.097509   \n",
       "IBND  0.000000       0.094522               0.088492       0.097051   \n",
       "EMB   0.000000       0.092139               0.094709       0.101247   \n",
       "\n",
       "      Random Forest (Tuned)  Gradient boosting  Gradient boosting (Tuned)  \n",
       "VTI                0.105371           0.113774                   0.106892  \n",
       "IUSV               0.107563           0.126618                   0.115478  \n",
       "VBR                0.095672           0.094499                   0.097178  \n",
       "VEA                0.100526           0.103148                   0.101057  \n",
       "VWO                0.091181           0.101080                   0.091371  \n",
       "SHV                0.099978           0.098409                   0.094249  \n",
       "STIP               0.102435           0.101152                   0.098725  \n",
       "AGG                0.105008           0.105995                   0.104908  \n",
       "IBND               0.094594           0.081068                   0.092468  \n",
       "EMB                0.097673           0.099664                   0.097574  "
      ]
     },
     "execution_count": 189,
     "metadata": {},
     "output_type": "execute_result"
    }
   ],
   "source": [
    "# Average ETF allocation during 2020 \n",
    "average_allocation_2020 =pd.concat([MVO_monthly_weights.loc['2020'].mean(),predictions_dt.loc['2020'].mean(),hyper_predictions_dt.mean(),predictions_rf.loc['2020'].mean(),predictions_hyper_rf.loc['2020'].mean(),\n",
    "           predictions_gb.loc['2020'].mean(),predictions_hyper_gb.loc['2020'].mean()],axis=1)\n",
    "average_allocation_2020.columns = results.columns\n",
    "average_allocation_2020"
   ]
  },
  {
   "cell_type": "code",
   "execution_count": 196,
   "metadata": {},
   "outputs": [
    {
     "data": {
      "image/png": "[encoded data removed]",
      "text/plain": [
       "<Figure size 2000x800 with 1 Axes>"
      ]
     },
     "metadata": {},
     "output_type": "display_data"
    }
   ],
   "source": [
    "# Plot overall allocation against 2020 allocation\n",
    "w = 0.2 \n",
    "bar1 = np.arange(len(average_allocation.columns))\n",
    "bar2 = [i+w for i in bar1]\n",
    "bar3 = [i+w for i in bar2]\n",
    "bar4 = [i+w for i in bar3]\n",
    "\n",
    "plt.figure(figsize=(20,8))\n",
    "plt.bar(bar1, average_allocation.iloc[0:5].sum().mul(100), w, label='Average Stock %', color='firebrick')\n",
    "plt.bar(bar2, average_allocation.iloc[5:].sum().mul(100), w, label='Average Bond %',color='lightgrey')\n",
    "plt.bar(bar3, average_allocation_2020.iloc[0:5].sum().mul(100), w, label='Stock % 2020', color='tomato')\n",
    "plt.bar(bar4, average_allocation_2020.iloc[5:].sum().mul(100), w, label='Bond % 2020', color='dimgrey')\n",
    "plt.xticks(bar1 + 1.5*w,average_allocation.columns)\n",
    "plt.xlabel('ETF')\n",
    "plt.ylabel('Asset allocation')\n",
    "plt.title('Overall ETF allocation vs 2020 ETF allocation')\n",
    "plt.legend()\n",
    "plt.show()"
   ]
  }
 ],
 "metadata": {
  "citation-manager": {
   "items": {}
  },
  "kernelspec": {
   "display_name": "Python 3 (ipykernel)",
   "language": "python",
   "name": "python3"
  },
  "language_info": {
   "codemirror_mode": {
    "name": "ipython",
    "version": 3
   },
   "file_extension": ".py",
   "mimetype": "text/x-python",
   "name": "python",
   "nbconvert_exporter": "python",
   "pygments_lexer": "ipython3",
   "version": "3.10.9"
  }
 },
 "nbformat": 4,
 "nbformat_minor": 4
}
